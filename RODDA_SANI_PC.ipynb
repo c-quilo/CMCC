{
 "cells": [
  {
   "cell_type": "code",
   "execution_count": 2,
   "metadata": {},
   "outputs": [],
   "source": [
    "import xarray as xr\n",
    "import matplotlib.pyplot as plt\n",
    "import glob\n",
    "import pandas as pd\n",
    "import netCDF4\n",
    "import scipy\n",
    "import numpy as np\n",
    "import eofs\n",
    "from eofs.standard import Eof"
   ]
  },
  {
   "cell_type": "code",
   "execution_count": 9,
   "metadata": {},
   "outputs": [],
   "source": [
    "directory_data = '/data/c-quilo/CMCC/'\n",
    "#Load data\n",
    "sst_noDA = np.load('/data/c-quilo/CMCC/SST_noDA.npy')\n",
    "sst_DA = np.load('/data/c-quilo/CMCC/SST_DA.npy')\n",
    "misfits = sst_noDA - sst_DA"
   ]
  },
  {
   "cell_type": "code",
   "execution_count": 11,
   "metadata": {},
   "outputs": [],
   "source": [
    "#Reduced-space PCs for noDA and misfits\n",
    "modelData = sst_noDA\n",
    "nameSimulation = 'noDA'\n",
    "fieldName = 'sst'\n"
   ]
  },
  {
   "cell_type": "code",
   "execution_count": 7,
   "metadata": {},
   "outputs": [],
   "source": [
    "meanData = np.nanmean(modelData, 0)\n",
    "stdData = np.nanstd(modelData)\n",
    "modelDataScaled = (modelData - meanData) / stdData"
   ]
  },
  {
   "cell_type": "code",
   "execution_count": 8,
   "metadata": {},
   "outputs": [],
   "source": [
    "#PCA solver\n",
    "solver = Eof(modelDataScaled)\n",
    "\n",
    "# Principal Components time-series\n",
    "pcs = solver.pcs()\n",
    "# Projection\n",
    "eof = solver.eofs()\n",
    "varianceCumulative = np.cumsum(solver.varianceFraction())\n"
   ]
  },
  {
   "cell_type": "code",
   "execution_count": 15,
   "metadata": {},
   "outputs": [
    {
     "name": "stdout",
     "output_type": "stream",
     "text": [
      "[0.97953557 0.9876513  0.99134543 ... 1.         1.         1.        ]\n"
     ]
    }
   ],
   "source": [
    "varianceCumulative = np.cumsum(solver.varianceFraction())\n",
    "print(varianceCumulative)"
   ]
  },
  {
   "cell_type": "code",
   "execution_count": 13,
   "metadata": {},
   "outputs": [],
   "source": [
    "#Save children datasets for SST_noDA\n",
    "np.save(f'{directory_data}_pcs_{nameSimulation}_{fieldName}', pcs)\n",
    "np.save(f'{directory_data}_eof_{nameSimulation}_{fieldName}', eof)\n",
    "np.save(f'{directory_data}_mean_{nameSimulation}_{fieldName}', meanData)\n",
    "np.save(f'{directory_data}_std_{nameSimulation}_{fieldName}', stdData)"
   ]
  },
  {
   "cell_type": "code",
   "execution_count": 17,
   "metadata": {},
   "outputs": [],
   "source": [
    "# Reduced-model for misfits\n",
    "modelData = sst_noDA\n",
    "nameSimulation = 'noDA'\n",
    "fieldName = 'sst'\n"
   ]
  },
  {
   "cell_type": "code",
   "execution_count": null,
   "metadata": {},
   "outputs": [],
   "source": []
  }
 ],
 "metadata": {
  "kernelspec": {
   "display_name": "Python 3.9.12 ('tensorflow')",
   "language": "python",
   "name": "python3"
  },
  "language_info": {
   "codemirror_mode": {
    "name": "ipython",
    "version": 3
   },
   "file_extension": ".py",
   "mimetype": "text/x-python",
   "name": "python",
   "nbconvert_exporter": "python",
   "pygments_lexer": "ipython3",
   "version": "3.9.12"
  },
  "orig_nbformat": 4,
  "vscode": {
   "interpreter": {
    "hash": "04c326ab39f7cdc473ebc7acaec36b3cfd9f692ecff7c7f99b1c8c609feb2993"
   }
  }
 },
 "nbformat": 4,
 "nbformat_minor": 2
}
