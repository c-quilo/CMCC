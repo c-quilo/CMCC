{
 "cells": [
  {
   "cell_type": "code",
   "execution_count": 1,
   "metadata": {},
   "outputs": [],
   "source": [
    "import xarray as xr\n",
    "import matplotlib.pyplot as plt\n",
    "import glob\n",
    "import pandas as pd\n",
    "import netCDF4\n",
    "import scipy\n",
    "import numpy as np"
   ]
  },
  {
   "cell_type": "code",
   "execution_count": 2,
   "metadata": {},
   "outputs": [
    {
     "name": "stdout",
     "output_type": "stream",
     "text": [
      "['/data/c-quilo/CMCC/NoDA/SHYFEM_NO_ASSIM/sst_saniv1_chunk_0000.nos.nc', '/data/c-quilo/CMCC/NoDA/SHYFEM_NO_ASSIM/sst_saniv1_chunk_0001.nos.nc', '/data/c-quilo/CMCC/NoDA/SHYFEM_NO_ASSIM/sst_saniv1_chunk_0002.nos.nc', '/data/c-quilo/CMCC/NoDA/SHYFEM_NO_ASSIM/sst_saniv1_chunk_0003.nos.nc', '/data/c-quilo/CMCC/NoDA/SHYFEM_NO_ASSIM/sst_saniv1_chunk_0004.nos.nc', '/data/c-quilo/CMCC/NoDA/SHYFEM_NO_ASSIM/sst_saniv1_chunk_0005.nos.nc', '/data/c-quilo/CMCC/NoDA/SHYFEM_NO_ASSIM/sst_saniv1_chunk_0006.nos.nc', '/data/c-quilo/CMCC/NoDA/SHYFEM_NO_ASSIM/sst_saniv1_chunk_0007.nos.nc', '/data/c-quilo/CMCC/NoDA/SHYFEM_NO_ASSIM/sst_saniv1_chunk_0008.nos.nc', '/data/c-quilo/CMCC/NoDA/SHYFEM_NO_ASSIM/sst_saniv1_chunk_0009.nos.nc', '/data/c-quilo/CMCC/NoDA/SHYFEM_NO_ASSIM/sst_saniv1_chunk_0010.nos.nc', '/data/c-quilo/CMCC/NoDA/SHYFEM_NO_ASSIM/sst_saniv1_chunk_0011.nos.nc', '/data/c-quilo/CMCC/NoDA/SHYFEM_NO_ASSIM/sst_saniv1_chunk_0012.nos.nc', '/data/c-quilo/CMCC/NoDA/SHYFEM_NO_ASSIM/sst_saniv1_chunk_0013.nos.nc', '/data/c-quilo/CMCC/NoDA/SHYFEM_NO_ASSIM/sst_saniv1_chunk_0014.nos.nc', '/data/c-quilo/CMCC/NoDA/SHYFEM_NO_ASSIM/sst_saniv1_chunk_0015.nos.nc', '/data/c-quilo/CMCC/NoDA/SHYFEM_NO_ASSIM/sst_saniv1_chunk_0016.nos.nc', '/data/c-quilo/CMCC/NoDA/SHYFEM_NO_ASSIM/sst_saniv1_chunk_0017.nos.nc', '/data/c-quilo/CMCC/NoDA/SHYFEM_NO_ASSIM/sst_saniv1_chunk_0018.nos.nc', '/data/c-quilo/CMCC/NoDA/SHYFEM_NO_ASSIM/sst_saniv1_chunk_0019.nos.nc', '/data/c-quilo/CMCC/NoDA/SHYFEM_NO_ASSIM/sst_saniv1_chunk_0020.nos.nc', '/data/c-quilo/CMCC/NoDA/SHYFEM_NO_ASSIM/sst_saniv1_chunk_0021.nos.nc', '/data/c-quilo/CMCC/NoDA/SHYFEM_NO_ASSIM/sst_saniv1_chunk_0022.nos.nc', '/data/c-quilo/CMCC/NoDA/SHYFEM_NO_ASSIM/sst_saniv1_chunk_0023.nos.nc', '/data/c-quilo/CMCC/NoDA/SHYFEM_NO_ASSIM/sst_saniv1_chunk_0024.nos.nc', '/data/c-quilo/CMCC/NoDA/SHYFEM_NO_ASSIM/sst_saniv1_chunk_0025.nos.nc', '/data/c-quilo/CMCC/NoDA/SHYFEM_NO_ASSIM/sst_saniv1_chunk_0026.nos.nc', '/data/c-quilo/CMCC/NoDA/SHYFEM_NO_ASSIM/sst_saniv1_chunk_0027.nos.nc', '/data/c-quilo/CMCC/NoDA/SHYFEM_NO_ASSIM/sst_saniv1_chunk_0028.nos.nc', '/data/c-quilo/CMCC/NoDA/SHYFEM_NO_ASSIM/sst_saniv1_chunk_0029.nos.nc', '/data/c-quilo/CMCC/NoDA/SHYFEM_NO_ASSIM/sst_saniv1_chunk_0030.nos.nc', '/data/c-quilo/CMCC/NoDA/SHYFEM_NO_ASSIM/sst_saniv1_chunk_0031.nos.nc', '/data/c-quilo/CMCC/NoDA/SHYFEM_NO_ASSIM/sst_saniv1_chunk_0032.nos.nc', '/data/c-quilo/CMCC/NoDA/SHYFEM_NO_ASSIM/sst_saniv1_chunk_0033.nos.nc', '/data/c-quilo/CMCC/NoDA/SHYFEM_NO_ASSIM/sst_saniv1_chunk_0034.nos.nc', '/data/c-quilo/CMCC/NoDA/SHYFEM_NO_ASSIM/sst_saniv1_chunk_0035.nos.nc', '/data/c-quilo/CMCC/NoDA/SHYFEM_NO_ASSIM/sst_saniv1_chunk_0036.nos.nc', '/data/c-quilo/CMCC/NoDA/SHYFEM_NO_ASSIM/sst_saniv1_chunk_0037.nos.nc', '/data/c-quilo/CMCC/NoDA/SHYFEM_NO_ASSIM/sst_saniv1_chunk_0038.nos.nc', '/data/c-quilo/CMCC/NoDA/SHYFEM_NO_ASSIM/sst_saniv1_chunk_0039.nos.nc', '/data/c-quilo/CMCC/NoDA/SHYFEM_NO_ASSIM/sst_saniv1_chunk_0040.nos.nc', '/data/c-quilo/CMCC/NoDA/SHYFEM_NO_ASSIM/sst_saniv1_chunk_0041.nos.nc', '/data/c-quilo/CMCC/NoDA/SHYFEM_NO_ASSIM/sst_saniv1_chunk_0042.nos.nc', '/data/c-quilo/CMCC/NoDA/SHYFEM_NO_ASSIM/sst_saniv1_chunk_0043.nos.nc', '/data/c-quilo/CMCC/NoDA/SHYFEM_NO_ASSIM/sst_saniv1_chunk_0044.nos.nc', '/data/c-quilo/CMCC/NoDA/SHYFEM_NO_ASSIM/sst_saniv1_chunk_0045.nos.nc', '/data/c-quilo/CMCC/NoDA/SHYFEM_NO_ASSIM/sst_saniv1_chunk_0046.nos.nc', '/data/c-quilo/CMCC/NoDA/SHYFEM_NO_ASSIM/sst_saniv1_chunk_0047.nos.nc', '/data/c-quilo/CMCC/NoDA/SHYFEM_NO_ASSIM/sst_saniv1_chunk_0048.nos.nc', '/data/c-quilo/CMCC/NoDA/SHYFEM_NO_ASSIM/sst_saniv1_chunk_0049.nos.nc', '/data/c-quilo/CMCC/NoDA/SHYFEM_NO_ASSIM/sst_saniv1_chunk_0050.nos.nc', '/data/c-quilo/CMCC/NoDA/SHYFEM_NO_ASSIM/sst_saniv1_chunk_0051.nos.nc', '/data/c-quilo/CMCC/NoDA/SHYFEM_NO_ASSIM/sst_saniv1_chunk_0052.nos.nc', '/data/c-quilo/CMCC/NoDA/SHYFEM_NO_ASSIM/sst_saniv1_chunk_0053.nos.nc', '/data/c-quilo/CMCC/NoDA/SHYFEM_NO_ASSIM/sst_saniv1_chunk_0054.nos.nc', '/data/c-quilo/CMCC/NoDA/SHYFEM_NO_ASSIM/sst_saniv1_chunk_0055.nos.nc', '/data/c-quilo/CMCC/NoDA/SHYFEM_NO_ASSIM/sst_saniv1_chunk_0056.nos.nc', '/data/c-quilo/CMCC/NoDA/SHYFEM_NO_ASSIM/sst_saniv1_chunk_0057.nos.nc', '/data/c-quilo/CMCC/NoDA/SHYFEM_NO_ASSIM/sst_saniv1_chunk_0058.nos.nc', '/data/c-quilo/CMCC/NoDA/SHYFEM_NO_ASSIM/sst_saniv1_chunk_0059.nos.nc', '/data/c-quilo/CMCC/NoDA/SHYFEM_NO_ASSIM/sst_saniv1_chunk_0060.nos.nc', '/data/c-quilo/CMCC/NoDA/SHYFEM_NO_ASSIM/sst_saniv1_chunk_0061.nos.nc', '/data/c-quilo/CMCC/NoDA/SHYFEM_NO_ASSIM/sst_saniv1_chunk_0062.nos.nc', '/data/c-quilo/CMCC/NoDA/SHYFEM_NO_ASSIM/sst_saniv1_chunk_0063.nos.nc', '/data/c-quilo/CMCC/NoDA/SHYFEM_NO_ASSIM/sst_saniv1_chunk_0064.nos.nc', '/data/c-quilo/CMCC/NoDA/SHYFEM_NO_ASSIM/sst_saniv1_chunk_0065.nos.nc', '/data/c-quilo/CMCC/NoDA/SHYFEM_NO_ASSIM/sst_saniv1_chunk_0066.nos.nc', '/data/c-quilo/CMCC/NoDA/SHYFEM_NO_ASSIM/sst_saniv1_chunk_0067.nos.nc', '/data/c-quilo/CMCC/NoDA/SHYFEM_NO_ASSIM/sst_saniv1_chunk_0068.nos.nc', '/data/c-quilo/CMCC/NoDA/SHYFEM_NO_ASSIM/sst_saniv1_chunk_0069.nos.nc', '/data/c-quilo/CMCC/NoDA/SHYFEM_NO_ASSIM/sst_saniv1_chunk_0070.nos.nc', '/data/c-quilo/CMCC/NoDA/SHYFEM_NO_ASSIM/sst_saniv1_chunk_0071.nos.nc', '/data/c-quilo/CMCC/NoDA/SHYFEM_NO_ASSIM/sst_saniv1_chunk_0072.nos.nc', '/data/c-quilo/CMCC/NoDA/SHYFEM_NO_ASSIM/sst_saniv1_chunk_0073.nos.nc', '/data/c-quilo/CMCC/NoDA/SHYFEM_NO_ASSIM/sst_saniv1_chunk_0074.nos.nc', '/data/c-quilo/CMCC/NoDA/SHYFEM_NO_ASSIM/sst_saniv1_chunk_0075.nos.nc', '/data/c-quilo/CMCC/NoDA/SHYFEM_NO_ASSIM/sst_saniv1_chunk_0076.nos.nc', '/data/c-quilo/CMCC/NoDA/SHYFEM_NO_ASSIM/sst_saniv1_chunk_0077.nos.nc', '/data/c-quilo/CMCC/NoDA/SHYFEM_NO_ASSIM/sst_saniv1_chunk_0078.nos.nc', '/data/c-quilo/CMCC/NoDA/SHYFEM_NO_ASSIM/sst_saniv1_chunk_0079.nos.nc', '/data/c-quilo/CMCC/NoDA/SHYFEM_NO_ASSIM/sst_saniv1_chunk_0080.nos.nc', '/data/c-quilo/CMCC/NoDA/SHYFEM_NO_ASSIM/sst_saniv1_chunk_0081.nos.nc', '/data/c-quilo/CMCC/NoDA/SHYFEM_NO_ASSIM/sst_saniv1_chunk_0082.nos.nc', '/data/c-quilo/CMCC/NoDA/SHYFEM_NO_ASSIM/sst_saniv1_chunk_0083.nos.nc', '/data/c-quilo/CMCC/NoDA/SHYFEM_NO_ASSIM/sst_saniv1_chunk_0084.nos.nc', '/data/c-quilo/CMCC/NoDA/SHYFEM_NO_ASSIM/sst_saniv1_chunk_0085.nos.nc', '/data/c-quilo/CMCC/NoDA/SHYFEM_NO_ASSIM/sst_saniv1_chunk_0086.nos.nc', '/data/c-quilo/CMCC/NoDA/SHYFEM_NO_ASSIM/sst_saniv1_chunk_0087.nos.nc', '/data/c-quilo/CMCC/NoDA/SHYFEM_NO_ASSIM/sst_saniv1_chunk_0088.nos.nc', '/data/c-quilo/CMCC/NoDA/SHYFEM_NO_ASSIM/sst_saniv1_chunk_0089.nos.nc', '/data/c-quilo/CMCC/NoDA/SHYFEM_NO_ASSIM/sst_saniv1_chunk_0090.nos.nc', '/data/c-quilo/CMCC/NoDA/SHYFEM_NO_ASSIM/sst_saniv1_chunk_0091.nos.nc', '/data/c-quilo/CMCC/NoDA/SHYFEM_NO_ASSIM/sst_saniv1_chunk_0092.nos.nc', '/data/c-quilo/CMCC/NoDA/SHYFEM_NO_ASSIM/sst_saniv1_chunk_0093.nos.nc', '/data/c-quilo/CMCC/NoDA/SHYFEM_NO_ASSIM/sst_saniv1_chunk_0094.nos.nc', '/data/c-quilo/CMCC/NoDA/SHYFEM_NO_ASSIM/sst_saniv1_chunk_0095.nos.nc', '/data/c-quilo/CMCC/NoDA/SHYFEM_NO_ASSIM/sst_saniv1_chunk_0096.nos.nc', '/data/c-quilo/CMCC/NoDA/SHYFEM_NO_ASSIM/sst_saniv1_chunk_0097.nos.nc', '/data/c-quilo/CMCC/NoDA/SHYFEM_NO_ASSIM/sst_saniv1_chunk_0098.nos.nc', '/data/c-quilo/CMCC/NoDA/SHYFEM_NO_ASSIM/sst_saniv1_chunk_0099.nos.nc', '/data/c-quilo/CMCC/NoDA/SHYFEM_NO_ASSIM/sst_saniv1_chunk_0100.nos.nc', '/data/c-quilo/CMCC/NoDA/SHYFEM_NO_ASSIM/sst_saniv1_chunk_0101.nos.nc', '/data/c-quilo/CMCC/NoDA/SHYFEM_NO_ASSIM/sst_saniv1_chunk_0102.nos.nc', '/data/c-quilo/CMCC/NoDA/SHYFEM_NO_ASSIM/sst_saniv1_chunk_0103.nos.nc', '/data/c-quilo/CMCC/NoDA/SHYFEM_NO_ASSIM/sst_saniv1_chunk_0104.nos.nc', '/data/c-quilo/CMCC/NoDA/SHYFEM_NO_ASSIM/sst_saniv1_chunk_0105.nos.nc', '/data/c-quilo/CMCC/NoDA/SHYFEM_NO_ASSIM/sst_saniv1_chunk_0106.nos.nc', '/data/c-quilo/CMCC/NoDA/SHYFEM_NO_ASSIM/sst_saniv1_chunk_0107.nos.nc', '/data/c-quilo/CMCC/NoDA/SHYFEM_NO_ASSIM/sst_saniv1_chunk_0108.nos.nc', '/data/c-quilo/CMCC/NoDA/SHYFEM_NO_ASSIM/sst_saniv1_chunk_0109.nos.nc', '/data/c-quilo/CMCC/NoDA/SHYFEM_NO_ASSIM/sst_saniv1_chunk_0110.nos.nc', '/data/c-quilo/CMCC/NoDA/SHYFEM_NO_ASSIM/sst_saniv1_chunk_0111.nos.nc', '/data/c-quilo/CMCC/NoDA/SHYFEM_NO_ASSIM/sst_saniv1_chunk_0112.nos.nc', '/data/c-quilo/CMCC/NoDA/SHYFEM_NO_ASSIM/sst_saniv1_chunk_0113.nos.nc', '/data/c-quilo/CMCC/NoDA/SHYFEM_NO_ASSIM/sst_saniv1_chunk_0114.nos.nc', '/data/c-quilo/CMCC/NoDA/SHYFEM_NO_ASSIM/sst_saniv1_chunk_0115.nos.nc', '/data/c-quilo/CMCC/NoDA/SHYFEM_NO_ASSIM/sst_saniv1_chunk_0116.nos.nc', '/data/c-quilo/CMCC/NoDA/SHYFEM_NO_ASSIM/sst_saniv1_chunk_0117.nos.nc', '/data/c-quilo/CMCC/NoDA/SHYFEM_NO_ASSIM/sst_saniv1_chunk_0118.nos.nc', '/data/c-quilo/CMCC/NoDA/SHYFEM_NO_ASSIM/sst_saniv1_chunk_0119.nos.nc', '/data/c-quilo/CMCC/NoDA/SHYFEM_NO_ASSIM/sst_saniv1_chunk_0120.nos.nc', '/data/c-quilo/CMCC/NoDA/SHYFEM_NO_ASSIM/sst_saniv1_chunk_0121.nos.nc', '/data/c-quilo/CMCC/NoDA/SHYFEM_NO_ASSIM/sst_saniv1_chunk_0122.nos.nc', '/data/c-quilo/CMCC/NoDA/SHYFEM_NO_ASSIM/sst_saniv1_chunk_0123.nos.nc', '/data/c-quilo/CMCC/NoDA/SHYFEM_NO_ASSIM/sst_saniv1_chunk_0124.nos.nc', '/data/c-quilo/CMCC/NoDA/SHYFEM_NO_ASSIM/sst_saniv1_chunk_0125.nos.nc', '/data/c-quilo/CMCC/NoDA/SHYFEM_NO_ASSIM/sst_saniv1_chunk_0126.nos.nc', '/data/c-quilo/CMCC/NoDA/SHYFEM_NO_ASSIM/sst_saniv1_chunk_0127.nos.nc', '/data/c-quilo/CMCC/NoDA/SHYFEM_NO_ASSIM/sst_saniv1_chunk_0128.nos.nc', '/data/c-quilo/CMCC/NoDA/SHYFEM_NO_ASSIM/sst_saniv1_chunk_0129.nos.nc', '/data/c-quilo/CMCC/NoDA/SHYFEM_NO_ASSIM/sst_saniv1_chunk_0130.nos.nc', '/data/c-quilo/CMCC/NoDA/SHYFEM_NO_ASSIM/sst_saniv1_chunk_0131.nos.nc', '/data/c-quilo/CMCC/NoDA/SHYFEM_NO_ASSIM/sst_saniv1_chunk_0132.nos.nc', '/data/c-quilo/CMCC/NoDA/SHYFEM_NO_ASSIM/sst_saniv1_chunk_0133.nos.nc', '/data/c-quilo/CMCC/NoDA/SHYFEM_NO_ASSIM/sst_saniv1_chunk_0134.nos.nc', '/data/c-quilo/CMCC/NoDA/SHYFEM_NO_ASSIM/sst_saniv1_chunk_0135.nos.nc', '/data/c-quilo/CMCC/NoDA/SHYFEM_NO_ASSIM/sst_saniv1_chunk_0136.nos.nc', '/data/c-quilo/CMCC/NoDA/SHYFEM_NO_ASSIM/sst_saniv1_chunk_0137.nos.nc', '/data/c-quilo/CMCC/NoDA/SHYFEM_NO_ASSIM/sst_saniv1_chunk_0138.nos.nc', '/data/c-quilo/CMCC/NoDA/SHYFEM_NO_ASSIM/sst_saniv1_chunk_0139.nos.nc', '/data/c-quilo/CMCC/NoDA/SHYFEM_NO_ASSIM/sst_saniv1_chunk_0140.nos.nc', '/data/c-quilo/CMCC/NoDA/SHYFEM_NO_ASSIM/sst_saniv1_chunk_0141.nos.nc', '/data/c-quilo/CMCC/NoDA/SHYFEM_NO_ASSIM/sst_saniv1_chunk_0142.nos.nc', '/data/c-quilo/CMCC/NoDA/SHYFEM_NO_ASSIM/sst_saniv1_chunk_0143.nos.nc', '/data/c-quilo/CMCC/NoDA/SHYFEM_NO_ASSIM/sst_saniv1_chunk_0144.nos.nc', '/data/c-quilo/CMCC/NoDA/SHYFEM_NO_ASSIM/sst_saniv1_chunk_0145.nos.nc', '/data/c-quilo/CMCC/NoDA/SHYFEM_NO_ASSIM/sst_saniv1_chunk_0146.nos.nc', '/data/c-quilo/CMCC/NoDA/SHYFEM_NO_ASSIM/sst_saniv1_chunk_0147.nos.nc', '/data/c-quilo/CMCC/NoDA/SHYFEM_NO_ASSIM/sst_saniv1_chunk_0148.nos.nc', '/data/c-quilo/CMCC/NoDA/SHYFEM_NO_ASSIM/sst_saniv1_chunk_0149.nos.nc', '/data/c-quilo/CMCC/NoDA/SHYFEM_NO_ASSIM/sst_saniv1_chunk_0150.nos.nc', '/data/c-quilo/CMCC/NoDA/SHYFEM_NO_ASSIM/sst_saniv1_chunk_0151.nos.nc', '/data/c-quilo/CMCC/NoDA/SHYFEM_NO_ASSIM/sst_saniv1_chunk_0152.nos.nc', '/data/c-quilo/CMCC/NoDA/SHYFEM_NO_ASSIM/sst_saniv1_chunk_0153.nos.nc', '/data/c-quilo/CMCC/NoDA/SHYFEM_NO_ASSIM/sst_saniv1_chunk_0154.nos.nc', '/data/c-quilo/CMCC/NoDA/SHYFEM_NO_ASSIM/sst_saniv1_chunk_0155.nos.nc', '/data/c-quilo/CMCC/NoDA/SHYFEM_NO_ASSIM/sst_saniv1_chunk_0156.nos.nc', '/data/c-quilo/CMCC/NoDA/SHYFEM_NO_ASSIM/sst_saniv1_chunk_0157.nos.nc', '/data/c-quilo/CMCC/NoDA/SHYFEM_NO_ASSIM/sst_saniv1_chunk_0158.nos.nc', '/data/c-quilo/CMCC/NoDA/SHYFEM_NO_ASSIM/sst_saniv1_chunk_0159.nos.nc', '/data/c-quilo/CMCC/NoDA/SHYFEM_NO_ASSIM/sst_saniv1_chunk_0160.nos.nc', '/data/c-quilo/CMCC/NoDA/SHYFEM_NO_ASSIM/sst_saniv1_chunk_0161.nos.nc', '/data/c-quilo/CMCC/NoDA/SHYFEM_NO_ASSIM/sst_saniv1_chunk_0162.nos.nc', '/data/c-quilo/CMCC/NoDA/SHYFEM_NO_ASSIM/sst_saniv1_chunk_0163.nos.nc', '/data/c-quilo/CMCC/NoDA/SHYFEM_NO_ASSIM/sst_saniv1_chunk_0164.nos.nc', '/data/c-quilo/CMCC/NoDA/SHYFEM_NO_ASSIM/sst_saniv1_chunk_0165.nos.nc', '/data/c-quilo/CMCC/NoDA/SHYFEM_NO_ASSIM/sst_saniv1_chunk_0166.nos.nc', '/data/c-quilo/CMCC/NoDA/SHYFEM_NO_ASSIM/sst_saniv1_chunk_0167.nos.nc', '/data/c-quilo/CMCC/NoDA/SHYFEM_NO_ASSIM/sst_saniv1_chunk_0168.nos.nc', '/data/c-quilo/CMCC/NoDA/SHYFEM_NO_ASSIM/sst_saniv1_chunk_0169.nos.nc', '/data/c-quilo/CMCC/NoDA/SHYFEM_NO_ASSIM/sst_saniv1_chunk_0170.nos.nc', '/data/c-quilo/CMCC/NoDA/SHYFEM_NO_ASSIM/sst_saniv1_chunk_0171.nos.nc', '/data/c-quilo/CMCC/NoDA/SHYFEM_NO_ASSIM/sst_saniv1_chunk_0172.nos.nc', '/data/c-quilo/CMCC/NoDA/SHYFEM_NO_ASSIM/sst_saniv1_chunk_0173.nos.nc', '/data/c-quilo/CMCC/NoDA/SHYFEM_NO_ASSIM/sst_saniv1_chunk_0174.nos.nc', '/data/c-quilo/CMCC/NoDA/SHYFEM_NO_ASSIM/sst_saniv1_chunk_0175.nos.nc', '/data/c-quilo/CMCC/NoDA/SHYFEM_NO_ASSIM/sst_saniv1_chunk_0176.nos.nc', '/data/c-quilo/CMCC/NoDA/SHYFEM_NO_ASSIM/sst_saniv1_chunk_0177.nos.nc', '/data/c-quilo/CMCC/NoDA/SHYFEM_NO_ASSIM/sst_saniv1_chunk_0178.nos.nc', '/data/c-quilo/CMCC/NoDA/SHYFEM_NO_ASSIM/sst_saniv1_chunk_0179.nos.nc', '/data/c-quilo/CMCC/NoDA/SHYFEM_NO_ASSIM/sst_saniv1_chunk_0180.nos.nc', '/data/c-quilo/CMCC/NoDA/SHYFEM_NO_ASSIM/sst_saniv1_chunk_0181.nos.nc', '/data/c-quilo/CMCC/NoDA/SHYFEM_NO_ASSIM/sst_saniv1_chunk_0182.nos.nc', '/data/c-quilo/CMCC/NoDA/SHYFEM_NO_ASSIM/sst_saniv1_chunk_0183.nos.nc', '/data/c-quilo/CMCC/NoDA/SHYFEM_NO_ASSIM/sst_saniv1_chunk_0184.nos.nc', '/data/c-quilo/CMCC/NoDA/SHYFEM_NO_ASSIM/sst_saniv1_chunk_0185.nos.nc', '/data/c-quilo/CMCC/NoDA/SHYFEM_NO_ASSIM/sst_saniv1_chunk_0186.nos.nc', '/data/c-quilo/CMCC/NoDA/SHYFEM_NO_ASSIM/sst_saniv1_chunk_0187.nos.nc', '/data/c-quilo/CMCC/NoDA/SHYFEM_NO_ASSIM/sst_saniv1_chunk_0188.nos.nc', '/data/c-quilo/CMCC/NoDA/SHYFEM_NO_ASSIM/sst_saniv1_chunk_0189.nos.nc', '/data/c-quilo/CMCC/NoDA/SHYFEM_NO_ASSIM/sst_saniv1_chunk_0190.nos.nc', '/data/c-quilo/CMCC/NoDA/SHYFEM_NO_ASSIM/sst_saniv1_chunk_0191.nos.nc', '/data/c-quilo/CMCC/NoDA/SHYFEM_NO_ASSIM/sst_saniv1_chunk_0192.nos.nc', '/data/c-quilo/CMCC/NoDA/SHYFEM_NO_ASSIM/sst_saniv1_chunk_0193.nos.nc', '/data/c-quilo/CMCC/NoDA/SHYFEM_NO_ASSIM/sst_saniv1_chunk_0194.nos.nc', '/data/c-quilo/CMCC/NoDA/SHYFEM_NO_ASSIM/sst_saniv1_chunk_0195.nos.nc', '/data/c-quilo/CMCC/NoDA/SHYFEM_NO_ASSIM/sst_saniv1_chunk_0196.nos.nc', '/data/c-quilo/CMCC/NoDA/SHYFEM_NO_ASSIM/sst_saniv1_chunk_0197.nos.nc', '/data/c-quilo/CMCC/NoDA/SHYFEM_NO_ASSIM/sst_saniv1_chunk_0198.nos.nc', '/data/c-quilo/CMCC/NoDA/SHYFEM_NO_ASSIM/sst_saniv1_chunk_0199.nos.nc', '/data/c-quilo/CMCC/NoDA/SHYFEM_NO_ASSIM/sst_saniv1_chunk_0200.nos.nc', '/data/c-quilo/CMCC/NoDA/SHYFEM_NO_ASSIM/sst_saniv1_chunk_0201.nos.nc', '/data/c-quilo/CMCC/NoDA/SHYFEM_NO_ASSIM/sst_saniv1_chunk_0202.nos.nc', '/data/c-quilo/CMCC/NoDA/SHYFEM_NO_ASSIM/sst_saniv1_chunk_0203.nos.nc', '/data/c-quilo/CMCC/NoDA/SHYFEM_NO_ASSIM/sst_saniv1_chunk_0204.nos.nc', '/data/c-quilo/CMCC/NoDA/SHYFEM_NO_ASSIM/sst_saniv1_chunk_0205.nos.nc', '/data/c-quilo/CMCC/NoDA/SHYFEM_NO_ASSIM/sst_saniv1_chunk_0206.nos.nc', '/data/c-quilo/CMCC/NoDA/SHYFEM_NO_ASSIM/sst_saniv1_chunk_0207.nos.nc', '/data/c-quilo/CMCC/NoDA/SHYFEM_NO_ASSIM/sst_saniv1_chunk_0208.nos.nc', '/data/c-quilo/CMCC/NoDA/SHYFEM_NO_ASSIM/sst_saniv1_chunk_0209.nos.nc', '/data/c-quilo/CMCC/NoDA/SHYFEM_NO_ASSIM/sst_saniv1_chunk_0210.nos.nc', '/data/c-quilo/CMCC/NoDA/SHYFEM_NO_ASSIM/sst_saniv1_chunk_0211.nos.nc', '/data/c-quilo/CMCC/NoDA/SHYFEM_NO_ASSIM/sst_saniv1_chunk_0212.nos.nc', '/data/c-quilo/CMCC/NoDA/SHYFEM_NO_ASSIM/sst_saniv1_chunk_0213.nos.nc', '/data/c-quilo/CMCC/NoDA/SHYFEM_NO_ASSIM/sst_saniv1_chunk_0214.nos.nc', '/data/c-quilo/CMCC/NoDA/SHYFEM_NO_ASSIM/sst_saniv1_chunk_0215.nos.nc', '/data/c-quilo/CMCC/NoDA/SHYFEM_NO_ASSIM/sst_saniv1_chunk_0216.nos.nc', '/data/c-quilo/CMCC/NoDA/SHYFEM_NO_ASSIM/sst_saniv1_chunk_0217.nos.nc', '/data/c-quilo/CMCC/NoDA/SHYFEM_NO_ASSIM/sst_saniv1_chunk_0218.nos.nc', '/data/c-quilo/CMCC/NoDA/SHYFEM_NO_ASSIM/sst_saniv1_chunk_0219.nos.nc', '/data/c-quilo/CMCC/NoDA/SHYFEM_NO_ASSIM/sst_saniv1_chunk_0220.nos.nc', '/data/c-quilo/CMCC/NoDA/SHYFEM_NO_ASSIM/sst_saniv1_chunk_0221.nos.nc', '/data/c-quilo/CMCC/NoDA/SHYFEM_NO_ASSIM/sst_saniv1_chunk_0222.nos.nc', '/data/c-quilo/CMCC/NoDA/SHYFEM_NO_ASSIM/sst_saniv1_chunk_0223.nos.nc', '/data/c-quilo/CMCC/NoDA/SHYFEM_NO_ASSIM/sst_saniv1_chunk_0224.nos.nc', '/data/c-quilo/CMCC/NoDA/SHYFEM_NO_ASSIM/sst_saniv1_chunk_0225.nos.nc', '/data/c-quilo/CMCC/NoDA/SHYFEM_NO_ASSIM/sst_saniv1_chunk_0226.nos.nc', '/data/c-quilo/CMCC/NoDA/SHYFEM_NO_ASSIM/sst_saniv1_chunk_0227.nos.nc', '/data/c-quilo/CMCC/NoDA/SHYFEM_NO_ASSIM/sst_saniv1_chunk_0228.nos.nc', '/data/c-quilo/CMCC/NoDA/SHYFEM_NO_ASSIM/sst_saniv1_chunk_0229.nos.nc', '/data/c-quilo/CMCC/NoDA/SHYFEM_NO_ASSIM/sst_saniv1_chunk_0230.nos.nc', '/data/c-quilo/CMCC/NoDA/SHYFEM_NO_ASSIM/sst_saniv1_chunk_0231.nos.nc', '/data/c-quilo/CMCC/NoDA/SHYFEM_NO_ASSIM/sst_saniv1_chunk_0232.nos.nc', '/data/c-quilo/CMCC/NoDA/SHYFEM_NO_ASSIM/sst_saniv1_chunk_0233.nos.nc', '/data/c-quilo/CMCC/NoDA/SHYFEM_NO_ASSIM/sst_saniv1_chunk_0234.nos.nc', '/data/c-quilo/CMCC/NoDA/SHYFEM_NO_ASSIM/sst_saniv1_chunk_0235.nos.nc', '/data/c-quilo/CMCC/NoDA/SHYFEM_NO_ASSIM/sst_saniv1_chunk_0236.nos.nc', '/data/c-quilo/CMCC/NoDA/SHYFEM_NO_ASSIM/sst_saniv1_chunk_0237.nos.nc', '/data/c-quilo/CMCC/NoDA/SHYFEM_NO_ASSIM/sst_saniv1_chunk_0238.nos.nc', '/data/c-quilo/CMCC/NoDA/SHYFEM_NO_ASSIM/sst_saniv1_chunk_0239.nos.nc', '/data/c-quilo/CMCC/NoDA/SHYFEM_NO_ASSIM/sst_saniv1_chunk_0240.nos.nc', '/data/c-quilo/CMCC/NoDA/SHYFEM_NO_ASSIM/sst_saniv1_chunk_0241.nos.nc', '/data/c-quilo/CMCC/NoDA/SHYFEM_NO_ASSIM/sst_saniv1_chunk_0242.nos.nc', '/data/c-quilo/CMCC/NoDA/SHYFEM_NO_ASSIM/sst_saniv1_chunk_0243.nos.nc', '/data/c-quilo/CMCC/NoDA/SHYFEM_NO_ASSIM/sst_saniv1_chunk_0244.nos.nc', '/data/c-quilo/CMCC/NoDA/SHYFEM_NO_ASSIM/sst_saniv1_chunk_0245.nos.nc', '/data/c-quilo/CMCC/NoDA/SHYFEM_NO_ASSIM/sst_saniv1_chunk_0246.nos.nc', '/data/c-quilo/CMCC/NoDA/SHYFEM_NO_ASSIM/sst_saniv1_chunk_0247.nos.nc', '/data/c-quilo/CMCC/NoDA/SHYFEM_NO_ASSIM/sst_saniv1_chunk_0248.nos.nc', '/data/c-quilo/CMCC/NoDA/SHYFEM_NO_ASSIM/sst_saniv1_chunk_0249.nos.nc', '/data/c-quilo/CMCC/NoDA/SHYFEM_NO_ASSIM/sst_saniv1_chunk_0250.nos.nc', '/data/c-quilo/CMCC/NoDA/SHYFEM_NO_ASSIM/sst_saniv1_chunk_0251.nos.nc', '/data/c-quilo/CMCC/NoDA/SHYFEM_NO_ASSIM/sst_saniv1_chunk_0252.nos.nc', '/data/c-quilo/CMCC/NoDA/SHYFEM_NO_ASSIM/sst_saniv1_chunk_0253.nos.nc', '/data/c-quilo/CMCC/NoDA/SHYFEM_NO_ASSIM/sst_saniv1_chunk_0254.nos.nc', '/data/c-quilo/CMCC/NoDA/SHYFEM_NO_ASSIM/sst_saniv1_chunk_0255.nos.nc', '/data/c-quilo/CMCC/NoDA/SHYFEM_NO_ASSIM/sst_saniv1_chunk_0256.nos.nc', '/data/c-quilo/CMCC/NoDA/SHYFEM_NO_ASSIM/sst_saniv1_chunk_0257.nos.nc', '/data/c-quilo/CMCC/NoDA/SHYFEM_NO_ASSIM/sst_saniv1_chunk_0258.nos.nc', '/data/c-quilo/CMCC/NoDA/SHYFEM_NO_ASSIM/sst_saniv1_chunk_0259.nos.nc', '/data/c-quilo/CMCC/NoDA/SHYFEM_NO_ASSIM/sst_saniv1_chunk_0260.nos.nc', '/data/c-quilo/CMCC/NoDA/SHYFEM_NO_ASSIM/sst_saniv1_chunk_0261.nos.nc', '/data/c-quilo/CMCC/NoDA/SHYFEM_NO_ASSIM/sst_saniv1_chunk_0262.nos.nc', '/data/c-quilo/CMCC/NoDA/SHYFEM_NO_ASSIM/sst_saniv1_chunk_0263.nos.nc', '/data/c-quilo/CMCC/NoDA/SHYFEM_NO_ASSIM/sst_saniv1_chunk_0264.nos.nc', '/data/c-quilo/CMCC/NoDA/SHYFEM_NO_ASSIM/sst_saniv1_chunk_0265.nos.nc', '/data/c-quilo/CMCC/NoDA/SHYFEM_NO_ASSIM/sst_saniv1_chunk_0266.nos.nc', '/data/c-quilo/CMCC/NoDA/SHYFEM_NO_ASSIM/sst_saniv1_chunk_0267.nos.nc', '/data/c-quilo/CMCC/NoDA/SHYFEM_NO_ASSIM/sst_saniv1_chunk_0268.nos.nc', '/data/c-quilo/CMCC/NoDA/SHYFEM_NO_ASSIM/sst_saniv1_chunk_0269.nos.nc', '/data/c-quilo/CMCC/NoDA/SHYFEM_NO_ASSIM/sst_saniv1_chunk_0270.nos.nc', '/data/c-quilo/CMCC/NoDA/SHYFEM_NO_ASSIM/sst_saniv1_chunk_0271.nos.nc', '/data/c-quilo/CMCC/NoDA/SHYFEM_NO_ASSIM/sst_saniv1_chunk_0272.nos.nc', '/data/c-quilo/CMCC/NoDA/SHYFEM_NO_ASSIM/sst_saniv1_chunk_0273.nos.nc', '/data/c-quilo/CMCC/NoDA/SHYFEM_NO_ASSIM/sst_saniv1_chunk_0274.nos.nc', '/data/c-quilo/CMCC/NoDA/SHYFEM_NO_ASSIM/sst_saniv1_chunk_0275.nos.nc', '/data/c-quilo/CMCC/NoDA/SHYFEM_NO_ASSIM/sst_saniv1_chunk_0276.nos.nc', '/data/c-quilo/CMCC/NoDA/SHYFEM_NO_ASSIM/sst_saniv1_chunk_0277.nos.nc', '/data/c-quilo/CMCC/NoDA/SHYFEM_NO_ASSIM/sst_saniv1_chunk_0278.nos.nc', '/data/c-quilo/CMCC/NoDA/SHYFEM_NO_ASSIM/sst_saniv1_chunk_0279.nos.nc', '/data/c-quilo/CMCC/NoDA/SHYFEM_NO_ASSIM/sst_saniv1_chunk_0280.nos.nc', '/data/c-quilo/CMCC/NoDA/SHYFEM_NO_ASSIM/sst_saniv1_chunk_0281.nos.nc', '/data/c-quilo/CMCC/NoDA/SHYFEM_NO_ASSIM/sst_saniv1_chunk_0282.nos.nc', '/data/c-quilo/CMCC/NoDA/SHYFEM_NO_ASSIM/sst_saniv1_chunk_0283.nos.nc', '/data/c-quilo/CMCC/NoDA/SHYFEM_NO_ASSIM/sst_saniv1_chunk_0284.nos.nc', '/data/c-quilo/CMCC/NoDA/SHYFEM_NO_ASSIM/sst_saniv1_chunk_0285.nos.nc', '/data/c-quilo/CMCC/NoDA/SHYFEM_NO_ASSIM/sst_saniv1_chunk_0286.nos.nc', '/data/c-quilo/CMCC/NoDA/SHYFEM_NO_ASSIM/sst_saniv1_chunk_0287.nos.nc', '/data/c-quilo/CMCC/NoDA/SHYFEM_NO_ASSIM/sst_saniv1_chunk_0288.nos.nc', '/data/c-quilo/CMCC/NoDA/SHYFEM_NO_ASSIM/sst_saniv1_chunk_0289.nos.nc', '/data/c-quilo/CMCC/NoDA/SHYFEM_NO_ASSIM/sst_saniv1_chunk_0290.nos.nc', '/data/c-quilo/CMCC/NoDA/SHYFEM_NO_ASSIM/sst_saniv1_chunk_0291.nos.nc', '/data/c-quilo/CMCC/NoDA/SHYFEM_NO_ASSIM/sst_saniv1_chunk_0292.nos.nc', '/data/c-quilo/CMCC/NoDA/SHYFEM_NO_ASSIM/sst_saniv1_chunk_0293.nos.nc', '/data/c-quilo/CMCC/NoDA/SHYFEM_NO_ASSIM/sst_saniv1_chunk_0294.nos.nc', '/data/c-quilo/CMCC/NoDA/SHYFEM_NO_ASSIM/sst_saniv1_chunk_0295.nos.nc', '/data/c-quilo/CMCC/NoDA/SHYFEM_NO_ASSIM/sst_saniv1_chunk_0296.nos.nc', '/data/c-quilo/CMCC/NoDA/SHYFEM_NO_ASSIM/sst_saniv1_chunk_0297.nos.nc', '/data/c-quilo/CMCC/NoDA/SHYFEM_NO_ASSIM/sst_saniv1_chunk_0298.nos.nc', '/data/c-quilo/CMCC/NoDA/SHYFEM_NO_ASSIM/sst_saniv1_chunk_0299.nos.nc', '/data/c-quilo/CMCC/NoDA/SHYFEM_NO_ASSIM/sst_saniv1_chunk_0300.nos.nc', '/data/c-quilo/CMCC/NoDA/SHYFEM_NO_ASSIM/sst_saniv1_chunk_0301.nos.nc', '/data/c-quilo/CMCC/NoDA/SHYFEM_NO_ASSIM/sst_saniv1_chunk_0302.nos.nc', '/data/c-quilo/CMCC/NoDA/SHYFEM_NO_ASSIM/sst_saniv1_chunk_0303.nos.nc', '/data/c-quilo/CMCC/NoDA/SHYFEM_NO_ASSIM/sst_saniv1_chunk_0304.nos.nc', '/data/c-quilo/CMCC/NoDA/SHYFEM_NO_ASSIM/sst_saniv1_chunk_0305.nos.nc', '/data/c-quilo/CMCC/NoDA/SHYFEM_NO_ASSIM/sst_saniv1_chunk_0306.nos.nc', '/data/c-quilo/CMCC/NoDA/SHYFEM_NO_ASSIM/sst_saniv1_chunk_0307.nos.nc', '/data/c-quilo/CMCC/NoDA/SHYFEM_NO_ASSIM/sst_saniv1_chunk_0308.nos.nc', '/data/c-quilo/CMCC/NoDA/SHYFEM_NO_ASSIM/sst_saniv1_chunk_0309.nos.nc', '/data/c-quilo/CMCC/NoDA/SHYFEM_NO_ASSIM/sst_saniv1_chunk_0310.nos.nc', '/data/c-quilo/CMCC/NoDA/SHYFEM_NO_ASSIM/sst_saniv1_chunk_0311.nos.nc', '/data/c-quilo/CMCC/NoDA/SHYFEM_NO_ASSIM/sst_saniv1_chunk_0312.nos.nc', '/data/c-quilo/CMCC/NoDA/SHYFEM_NO_ASSIM/sst_saniv1_chunk_0313.nos.nc', '/data/c-quilo/CMCC/NoDA/SHYFEM_NO_ASSIM/sst_saniv1_chunk_0314.nos.nc', '/data/c-quilo/CMCC/NoDA/SHYFEM_NO_ASSIM/sst_saniv1_chunk_0315.nos.nc', '/data/c-quilo/CMCC/NoDA/SHYFEM_NO_ASSIM/sst_saniv1_chunk_0316.nos.nc', '/data/c-quilo/CMCC/NoDA/SHYFEM_NO_ASSIM/sst_saniv1_chunk_0317.nos.nc', '/data/c-quilo/CMCC/NoDA/SHYFEM_NO_ASSIM/sst_saniv1_chunk_0318.nos.nc', '/data/c-quilo/CMCC/NoDA/SHYFEM_NO_ASSIM/sst_saniv1_chunk_0319.nos.nc', '/data/c-quilo/CMCC/NoDA/SHYFEM_NO_ASSIM/sst_saniv1_chunk_0320.nos.nc', '/data/c-quilo/CMCC/NoDA/SHYFEM_NO_ASSIM/sst_saniv1_chunk_0321.nos.nc', '/data/c-quilo/CMCC/NoDA/SHYFEM_NO_ASSIM/sst_saniv1_chunk_0322.nos.nc', '/data/c-quilo/CMCC/NoDA/SHYFEM_NO_ASSIM/sst_saniv1_chunk_0323.nos.nc', '/data/c-quilo/CMCC/NoDA/SHYFEM_NO_ASSIM/sst_saniv1_chunk_0324.nos.nc', '/data/c-quilo/CMCC/NoDA/SHYFEM_NO_ASSIM/sst_saniv1_chunk_0325.nos.nc', '/data/c-quilo/CMCC/NoDA/SHYFEM_NO_ASSIM/sst_saniv1_chunk_0326.nos.nc', '/data/c-quilo/CMCC/NoDA/SHYFEM_NO_ASSIM/sst_saniv1_chunk_0327.nos.nc', '/data/c-quilo/CMCC/NoDA/SHYFEM_NO_ASSIM/sst_saniv1_chunk_0328.nos.nc', '/data/c-quilo/CMCC/NoDA/SHYFEM_NO_ASSIM/sst_saniv1_chunk_0329.nos.nc', '/data/c-quilo/CMCC/NoDA/SHYFEM_NO_ASSIM/sst_saniv1_chunk_0330.nos.nc', '/data/c-quilo/CMCC/NoDA/SHYFEM_NO_ASSIM/sst_saniv1_chunk_0331.nos.nc', '/data/c-quilo/CMCC/NoDA/SHYFEM_NO_ASSIM/sst_saniv1_chunk_0332.nos.nc', '/data/c-quilo/CMCC/NoDA/SHYFEM_NO_ASSIM/sst_saniv1_chunk_0333.nos.nc', '/data/c-quilo/CMCC/NoDA/SHYFEM_NO_ASSIM/sst_saniv1_chunk_0334.nos.nc', '/data/c-quilo/CMCC/NoDA/SHYFEM_NO_ASSIM/sst_saniv1_chunk_0335.nos.nc', '/data/c-quilo/CMCC/NoDA/SHYFEM_NO_ASSIM/sst_saniv1_chunk_0336.nos.nc', '/data/c-quilo/CMCC/NoDA/SHYFEM_NO_ASSIM/sst_saniv1_chunk_0337.nos.nc', '/data/c-quilo/CMCC/NoDA/SHYFEM_NO_ASSIM/sst_saniv1_chunk_0338.nos.nc', '/data/c-quilo/CMCC/NoDA/SHYFEM_NO_ASSIM/sst_saniv1_chunk_0339.nos.nc', '/data/c-quilo/CMCC/NoDA/SHYFEM_NO_ASSIM/sst_saniv1_chunk_0340.nos.nc', '/data/c-quilo/CMCC/NoDA/SHYFEM_NO_ASSIM/sst_saniv1_chunk_0341.nos.nc', '/data/c-quilo/CMCC/NoDA/SHYFEM_NO_ASSIM/sst_saniv1_chunk_0342.nos.nc', '/data/c-quilo/CMCC/NoDA/SHYFEM_NO_ASSIM/sst_saniv1_chunk_0343.nos.nc', '/data/c-quilo/CMCC/NoDA/SHYFEM_NO_ASSIM/sst_saniv1_chunk_0344.nos.nc', '/data/c-quilo/CMCC/NoDA/SHYFEM_NO_ASSIM/sst_saniv1_chunk_0345.nos.nc', '/data/c-quilo/CMCC/NoDA/SHYFEM_NO_ASSIM/sst_saniv1_chunk_0346.nos.nc', '/data/c-quilo/CMCC/NoDA/SHYFEM_NO_ASSIM/sst_saniv1_chunk_0347.nos.nc', '/data/c-quilo/CMCC/NoDA/SHYFEM_NO_ASSIM/sst_saniv1_chunk_0348.nos.nc', '/data/c-quilo/CMCC/NoDA/SHYFEM_NO_ASSIM/sst_saniv1_chunk_0349.nos.nc', '/data/c-quilo/CMCC/NoDA/SHYFEM_NO_ASSIM/sst_saniv1_chunk_0350.nos.nc', '/data/c-quilo/CMCC/NoDA/SHYFEM_NO_ASSIM/sst_saniv1_chunk_0351.nos.nc', '/data/c-quilo/CMCC/NoDA/SHYFEM_NO_ASSIM/sst_saniv1_chunk_0352.nos.nc', '/data/c-quilo/CMCC/NoDA/SHYFEM_NO_ASSIM/sst_saniv1_chunk_0353.nos.nc', '/data/c-quilo/CMCC/NoDA/SHYFEM_NO_ASSIM/sst_saniv1_chunk_0354.nos.nc', '/data/c-quilo/CMCC/NoDA/SHYFEM_NO_ASSIM/sst_saniv1_chunk_0355.nos.nc', '/data/c-quilo/CMCC/NoDA/SHYFEM_NO_ASSIM/sst_saniv1_chunk_0356.nos.nc', '/data/c-quilo/CMCC/NoDA/SHYFEM_NO_ASSIM/sst_saniv1_chunk_0357.nos.nc', '/data/c-quilo/CMCC/NoDA/SHYFEM_NO_ASSIM/sst_saniv1_chunk_0358.nos.nc', '/data/c-quilo/CMCC/NoDA/SHYFEM_NO_ASSIM/sst_saniv1_chunk_0359.nos.nc', '/data/c-quilo/CMCC/NoDA/SHYFEM_NO_ASSIM/sst_saniv1_chunk_0360.nos.nc', '/data/c-quilo/CMCC/NoDA/SHYFEM_NO_ASSIM/sst_saniv1_chunk_0361.nos.nc', '/data/c-quilo/CMCC/NoDA/SHYFEM_NO_ASSIM/sst_saniv1_chunk_0362.nos.nc', '/data/c-quilo/CMCC/NoDA/SHYFEM_NO_ASSIM/sst_saniv1_chunk_0363.nos.nc', '/data/c-quilo/CMCC/NoDA/SHYFEM_NO_ASSIM/sst_saniv1_chunk_0364.nos.nc']\n"
     ]
    }
   ],
   "source": [
    "directory_noDA = '/data/c-quilo/CMCC/NoDA/SHYFEM_NO_ASSIM/'\n",
    "directory_DA = '/data/c-quilo/CMCC/DA/SHYFEM_ASSIM_BIVARIATE/'\n",
    "list_of_paths_noDA = sorted(glob.glob(directory_noDA + '/*'))\n",
    "list_of_paths_DA = sorted(glob.glob(directory_DA + '/*'))\n",
    "print(list_of_paths_noDA)"
   ]
  },
  {
   "cell_type": "code",
   "execution_count": 3,
   "metadata": {},
   "outputs": [],
   "source": [
    "sst_noDA = np.zeros((365*24, 90351))\n",
    "count = 0\n",
    "for file in list_of_paths_noDA:\n",
    "    data_noDA = xr.open_dataset(file)\n",
    "    sst_noDA[24*count:24*(count+1), :] = data_noDA.temperature\n",
    "    count += 1\n",
    "\n",
    "sst_DA = np.zeros((365*24, 90351))\n",
    "count = 0\n",
    "for file in list_of_paths_DA:\n",
    "    data_DA = xr.open_dataset(file)\n",
    "    sst_DA[24*count:24*(count+1), :] = data_DA.temperature\n",
    "    count += 1"
   ]
  },
  {
   "cell_type": "code",
   "execution_count": 6,
   "metadata": {},
   "outputs": [],
   "source": [
    "import tensorflow as tf\n",
    "from tensorflow import keras\n",
    "from sklearn.model_selection import train_test_split\n",
    "\n",
    "trainingData = sst_noDA"
   ]
  },
  {
   "cell_type": "markdown",
   "metadata": {},
   "source": [
    "Variational autoencoder\n",
    "Need to create 2 VAE, one to reduce the noDA staset, and another for the DA dataset"
   ]
  },
  {
   "cell_type": "code",
   "execution_count": 20,
   "metadata": {},
   "outputs": [],
   "source": [
    "class Sampling(keras.layers.Layer):\n",
    "    def call(self, inputs):\n",
    "        z_mean, z_log_var = inputs\n",
    "        batch = tf.shape(z_mean)[0]\n",
    "        dim = tf.shape(z_mean)[1]\n",
    "        epsilon = tf.keras.backend.random_normal(shape=(batch, dim))\n",
    "        return z_mean + tf.exp(0.5 * z_log_var) * epsilon\n"
   ]
  },
  {
   "cell_type": "code",
   "execution_count": 21,
   "metadata": {},
   "outputs": [
    {
     "name": "stdout",
     "output_type": "stream",
     "text": [
      "WARNING:tensorflow:AutoGraph could not transform <bound method Sampling.call of <__main__.Sampling object at 0x7ef9cc4a0190>> and will run it as-is.\n",
      "Please report this to the TensorFlow team. When filing the bug, set the verbosity to 10 (on Linux, `export AUTOGRAPH_VERBOSITY=10`) and attach the full output.\n",
      "Cause: module 'gast' has no attribute 'Index'\n",
      "To silence this warning, decorate the function with @tf.autograph.experimental.do_not_convert\n",
      "WARNING: AutoGraph could not transform <bound method Sampling.call of <__main__.Sampling object at 0x7ef9cc4a0190>> and will run it as-is.\n",
      "Please report this to the TensorFlow team. When filing the bug, set the verbosity to 10 (on Linux, `export AUTOGRAPH_VERBOSITY=10`) and attach the full output.\n",
      "Cause: module 'gast' has no attribute 'Index'\n",
      "To silence this warning, decorate the function with @tf.autograph.experimental.do_not_convert\n",
      "Model: \"encoder\"\n",
      "__________________________________________________________________________________________________\n",
      "Layer (type)                    Output Shape         Param #     Connected to                     \n",
      "==================================================================================================\n",
      "input_9 (InputLayer)            [(None, 90351)]      0                                            \n",
      "__________________________________________________________________________________________________\n",
      "dense_16 (Dense)                (None, 512)          46260224    input_9[0][0]                    \n",
      "__________________________________________________________________________________________________\n",
      "leaky_re_lu_16 (LeakyReLU)      (None, 512)          0           dense_16[0][0]                   \n",
      "__________________________________________________________________________________________________\n",
      "dropout_16 (Dropout)            (None, 512)          0           leaky_re_lu_16[0][0]             \n",
      "__________________________________________________________________________________________________\n",
      "batch_normalization_16 (BatchNo (None, 512)          2048        dropout_16[0][0]                 \n",
      "__________________________________________________________________________________________________\n",
      "dense_17 (Dense)                (None, 512)          262656      batch_normalization_16[0][0]     \n",
      "__________________________________________________________________________________________________\n",
      "leaky_re_lu_17 (LeakyReLU)      (None, 512)          0           dense_17[0][0]                   \n",
      "__________________________________________________________________________________________________\n",
      "dropout_17 (Dropout)            (None, 512)          0           leaky_re_lu_17[0][0]             \n",
      "__________________________________________________________________________________________________\n",
      "batch_normalization_17 (BatchNo (None, 512)          2048        dropout_17[0][0]                 \n",
      "__________________________________________________________________________________________________\n",
      "z_mean (Dense)                  (None, 90351)        46350063    batch_normalization_17[0][0]     \n",
      "__________________________________________________________________________________________________\n",
      "z_log_var (Dense)               (None, 90351)        46350063    batch_normalization_17[0][0]     \n",
      "__________________________________________________________________________________________________\n",
      "sampling_4 (Sampling)           (None, 90351)        0           z_mean[0][0]                     \n",
      "                                                                 z_log_var[0][0]                  \n",
      "==================================================================================================\n",
      "Total params: 139,227,102\n",
      "Trainable params: 139,225,054\n",
      "Non-trainable params: 2,048\n",
      "__________________________________________________________________________________________________\n"
     ]
    }
   ],
   "source": [
    "nFeatures = trainingData.shape[1] #+1 to account for droplet diameter size\n",
    "latent_dim = nFeatures\n",
    "initNNodes = 512\n",
    "\n",
    "alpha = 0.3\n",
    "encoder_inputs = keras.Input(shape=nFeatures)\n",
    "nNodes = initNNodes\n",
    "\n",
    "enc = keras.layers.Dense(initNNodes)(encoder_inputs)\n",
    "enc = keras.layers.LeakyReLU(alpha)(enc)\n",
    "enc = keras.layers.Dropout(0.5)(enc)\n",
    "enc = keras.layers.BatchNormalization()(enc)\n",
    "enc = keras.layers.Dense(initNNodes)(enc)\n",
    "enc = keras.layers.LeakyReLU(alpha)(enc)\n",
    "enc = keras.layers.Dropout(0.5)(enc)\n",
    "enc = keras.layers.BatchNormalization()(enc)\n",
    "\n",
    "z_mean = keras.layers.Dense(latent_dim, name=\"z_mean\")(enc)\n",
    "z_log_var = keras.layers.Dense(latent_dim, name=\"z_log_var\")(enc)\n",
    "z = Sampling()([z_mean, z_log_var])\n",
    "encoder = keras.Model(encoder_inputs, [z_mean, z_log_var, z], name=\"encoder\")\n",
    "encoder.summary()"
   ]
  },
  {
   "cell_type": "code",
   "execution_count": 22,
   "metadata": {},
   "outputs": [
    {
     "name": "stdout",
     "output_type": "stream",
     "text": [
      "Model: \"decoder\"\n",
      "_________________________________________________________________\n",
      "Layer (type)                 Output Shape              Param #   \n",
      "=================================================================\n",
      "input_10 (InputLayer)        [(None, 90351)]           0         \n",
      "_________________________________________________________________\n",
      "dense_18 (Dense)             (None, 512)               46260224  \n",
      "_________________________________________________________________\n",
      "leaky_re_lu_18 (LeakyReLU)   (None, 512)               0         \n",
      "_________________________________________________________________\n",
      "dropout_18 (Dropout)         (None, 512)               0         \n",
      "_________________________________________________________________\n",
      "batch_normalization_18 (Batc (None, 512)               2048      \n",
      "_________________________________________________________________\n",
      "dense_19 (Dense)             (None, 512)               262656    \n",
      "_________________________________________________________________\n",
      "leaky_re_lu_19 (LeakyReLU)   (None, 512)               0         \n",
      "_________________________________________________________________\n",
      "dropout_19 (Dropout)         (None, 512)               0         \n",
      "_________________________________________________________________\n",
      "batch_normalization_19 (Batc (None, 512)               2048      \n",
      "_________________________________________________________________\n",
      "dense_20 (Dense)             (None, 90351)             46350063  \n",
      "=================================================================\n",
      "Total params: 92,877,039\n",
      "Trainable params: 92,874,991\n",
      "Non-trainable params: 2,048\n",
      "_________________________________________________________________\n"
     ]
    }
   ],
   "source": [
    "latent_inputs = keras.Input(shape=(latent_dim,))\n",
    "n = latent_dim\n",
    "\n",
    "dec = keras.layers.Dense(initNNodes)(latent_inputs)\n",
    "dec = keras.layers.LeakyReLU(alpha)(dec)\n",
    "dec = keras.layers.Dropout(0.5)(dec)\n",
    "dec = keras.layers.BatchNormalization()(dec)\n",
    "dec = keras.layers.Dense(initNNodes)(dec)\n",
    "dec = keras.layers.LeakyReLU(alpha)(dec)\n",
    "dec = keras.layers.Dropout(0.5)(dec)\n",
    "dec = keras.layers.BatchNormalization()(dec)\n",
    "\n",
    "decoder_outputs = keras.layers.Dense(nFeatures, activation='sigmoid')(dec)\n",
    "decoder = keras.Model(latent_inputs, decoder_outputs, name=\"decoder\")\n",
    "decoder.summary()"
   ]
  },
  {
   "cell_type": "code",
   "execution_count": 23,
   "metadata": {},
   "outputs": [],
   "source": [
    "class VAE(keras.Model):\n",
    "    def __init__(self, encoder, decoder, **kwargs):\n",
    "        super(VAE, self).__init__(**kwargs)\n",
    "        self.encoder = encoder\n",
    "        self.decoder = decoder\n",
    "        self.total_loss_tracker = keras.metrics.Mean(name=\"total_loss\")\n",
    "        self.reconstruction_loss_tracker = keras.metrics.Mean(\n",
    "            name=\"reconstruction_loss\"\n",
    "        )\n",
    "        self.kl_loss_tracker = keras.metrics.Mean(name=\"kl_loss\")\n",
    "\n",
    "    @property\n",
    "    def metrics(self):\n",
    "        return [\n",
    "            self.total_loss_tracker,\n",
    "            self.reconstruction_loss_tracker,\n",
    "            self.kl_loss_tracker,\n",
    "        ]\n",
    "\n",
    "    def train_step(self, data):\n",
    "        with tf.GradientTape() as tape:\n",
    "            z_mean, z_log_var, z = self.encoder(data)\n",
    "            reconstruction = self.decoder(z)\n",
    "            #Mean squared Error as loss\n",
    "            reconstruction_loss = tf.reduce_mean(\n",
    "                tf.reduce_sum(\n",
    "                    keras.losses.mean_squared_error(data, reconstruction)\n",
    "                )\n",
    "            )\n",
    "\n",
    "            kl_loss = -0.5 * (1 + z_log_var - tf.square(z_mean) - tf.exp(z_log_var))\n",
    "            kl_loss = tf.reduce_mean(tf.reduce_sum(kl_loss, axis=1))\n",
    "            total_loss = reconstruction_loss + kl_loss\n",
    "        grads = tape.gradient(total_loss, self.trainable_weights)\n",
    "        self.optimizer.apply_gradients(zip(grads, self.trainable_weights))\n",
    "        self.total_loss_tracker.update_state(total_loss)\n",
    "        self.reconstruction_loss_tracker.update_state(reconstruction_loss)\n",
    "        self.kl_loss_tracker.update_state(kl_loss)\n",
    "        return {\n",
    "            \"loss\": self.total_loss_tracker.result(),\n",
    "            \"reconstruction_loss\": self.reconstruction_loss_tracker.result(),\n",
    "            \"kl_loss\": self.kl_loss_tracker.result(),\n",
    "        }"
   ]
  },
  {
   "cell_type": "code",
   "execution_count": 26,
   "metadata": {},
   "outputs": [
    {
     "name": "stdout",
     "output_type": "stream",
     "text": [
      "[10.03633384  9.88662116  9.76722944 ... 14.16660142 14.23843201\n",
      " 14.19209752]\n",
      "[31.05617823 31.02761777 30.9880134  ... 31.09058508 31.17212671\n",
      " 31.13100867]\n",
      "(8760, 90351)\n"
     ]
    },
    {
     "name": "stderr",
     "output_type": "stream",
     "text": [
      "2022-10-17 22:26:30.161786: I tensorflow/compiler/mlir/mlir_graph_optimization_pass.cc:116] None of the MLIR optimization passes are enabled (registered 2)\n",
      "2022-10-17 22:26:30.188089: I tensorflow/core/platform/profile_utils/cpu_utils.cc:112] CPU Frequency: 3504000000 Hz\n"
     ]
    },
    {
     "name": "stdout",
     "output_type": "stream",
     "text": [
      "Epoch 1/2000\n",
      "16/18 [=========================>....] - ETA: 6s - loss: 2124219156079.9851 - reconstruction_loss: 139.0680 - kl_loss: 1387293966336.0000"
     ]
    }
   ],
   "source": [
    "tf.random.set_seed(42)\n",
    "\n",
    "def scaler(x, xmin, xmax, min, max):\n",
    "    scale = (max - min) / (xmax - xmin)\n",
    "    xScaled = scale * x + min - xmin * scale\n",
    "    return xScaled\n",
    "min_ls = np.min(trainingData, 0)\n",
    "print(min_ls)\n",
    "max_ls = np.max(trainingData, 0)\n",
    "print(max_ls)\n",
    "min = 0\n",
    "max = 1\n",
    "meanData = np.mean(trainingData, 0)\n",
    "stdData = np.std(trainingData, 0)\n",
    "\n",
    "data = scaler(trainingData, min_ls, max_ls, min, max)\n",
    "\n",
    "print(data.shape)\n",
    "vae = VAE(encoder, decoder)\n",
    "vae.compile(optimizer=keras.optimizers.Nadam())\n",
    "vae.fit(data, epochs=2000, batch_size=512)"
   ]
  }
 ],
 "metadata": {
  "kernelspec": {
   "display_name": "Python 3.9.12 ('tensorflow')",
   "language": "python",
   "name": "python3"
  },
  "language_info": {
   "codemirror_mode": {
    "name": "ipython",
    "version": 3
   },
   "file_extension": ".py",
   "mimetype": "text/x-python",
   "name": "python",
   "nbconvert_exporter": "python",
   "pygments_lexer": "ipython3",
   "version": "3.9.12"
  },
  "orig_nbformat": 4,
  "vscode": {
   "interpreter": {
    "hash": "04c326ab39f7cdc473ebc7acaec36b3cfd9f692ecff7c7f99b1c8c609feb2993"
   }
  }
 },
 "nbformat": 4,
 "nbformat_minor": 2
}
