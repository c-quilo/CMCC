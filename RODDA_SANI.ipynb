{
 "cells": [
  {
   "cell_type": "markdown",
   "metadata": {},
   "source": [
    "RODDA Ocean Application SANI\n",
    "Imperial College London - CMCC\n",
    "Authors: César Quilodrán-Casas and Marco Stefanelli\n"
   ]
  },
  {
   "cell_type": "markdown",
   "metadata": {},
   "source": [
    "Loading the data"
   ]
  },
  {
   "cell_type": "code",
   "execution_count": 1,
   "metadata": {},
   "outputs": [],
   "source": [
    "import xarray as xr\n",
    "import matplotlib.pyplot as plt\n",
    "import glob\n",
    "import pandas as pd\n",
    "import netCDF4\n",
    "import scipy\n",
    "import numpy as np"
   ]
  },
  {
   "cell_type": "code",
   "execution_count": 2,
   "metadata": {},
   "outputs": [
    {
     "name": "stdout",
     "output_type": "stream",
     "text": [
      "['/data/c-quilo/CMCC/NoDA/SHYFEM_NO_ASSIM/sst_saniv1_chunk_0000.nos.nc', '/data/c-quilo/CMCC/NoDA/SHYFEM_NO_ASSIM/sst_saniv1_chunk_0001.nos.nc', '/data/c-quilo/CMCC/NoDA/SHYFEM_NO_ASSIM/sst_saniv1_chunk_0002.nos.nc', '/data/c-quilo/CMCC/NoDA/SHYFEM_NO_ASSIM/sst_saniv1_chunk_0003.nos.nc', '/data/c-quilo/CMCC/NoDA/SHYFEM_NO_ASSIM/sst_saniv1_chunk_0004.nos.nc', '/data/c-quilo/CMCC/NoDA/SHYFEM_NO_ASSIM/sst_saniv1_chunk_0005.nos.nc', '/data/c-quilo/CMCC/NoDA/SHYFEM_NO_ASSIM/sst_saniv1_chunk_0006.nos.nc', '/data/c-quilo/CMCC/NoDA/SHYFEM_NO_ASSIM/sst_saniv1_chunk_0007.nos.nc', '/data/c-quilo/CMCC/NoDA/SHYFEM_NO_ASSIM/sst_saniv1_chunk_0008.nos.nc', '/data/c-quilo/CMCC/NoDA/SHYFEM_NO_ASSIM/sst_saniv1_chunk_0009.nos.nc', '/data/c-quilo/CMCC/NoDA/SHYFEM_NO_ASSIM/sst_saniv1_chunk_0010.nos.nc', '/data/c-quilo/CMCC/NoDA/SHYFEM_NO_ASSIM/sst_saniv1_chunk_0011.nos.nc', '/data/c-quilo/CMCC/NoDA/SHYFEM_NO_ASSIM/sst_saniv1_chunk_0012.nos.nc', '/data/c-quilo/CMCC/NoDA/SHYFEM_NO_ASSIM/sst_saniv1_chunk_0013.nos.nc', '/data/c-quilo/CMCC/NoDA/SHYFEM_NO_ASSIM/sst_saniv1_chunk_0014.nos.nc', '/data/c-quilo/CMCC/NoDA/SHYFEM_NO_ASSIM/sst_saniv1_chunk_0015.nos.nc', '/data/c-quilo/CMCC/NoDA/SHYFEM_NO_ASSIM/sst_saniv1_chunk_0016.nos.nc', '/data/c-quilo/CMCC/NoDA/SHYFEM_NO_ASSIM/sst_saniv1_chunk_0017.nos.nc', '/data/c-quilo/CMCC/NoDA/SHYFEM_NO_ASSIM/sst_saniv1_chunk_0018.nos.nc', '/data/c-quilo/CMCC/NoDA/SHYFEM_NO_ASSIM/sst_saniv1_chunk_0019.nos.nc', '/data/c-quilo/CMCC/NoDA/SHYFEM_NO_ASSIM/sst_saniv1_chunk_0020.nos.nc', '/data/c-quilo/CMCC/NoDA/SHYFEM_NO_ASSIM/sst_saniv1_chunk_0021.nos.nc', '/data/c-quilo/CMCC/NoDA/SHYFEM_NO_ASSIM/sst_saniv1_chunk_0022.nos.nc', '/data/c-quilo/CMCC/NoDA/SHYFEM_NO_ASSIM/sst_saniv1_chunk_0023.nos.nc', '/data/c-quilo/CMCC/NoDA/SHYFEM_NO_ASSIM/sst_saniv1_chunk_0024.nos.nc', '/data/c-quilo/CMCC/NoDA/SHYFEM_NO_ASSIM/sst_saniv1_chunk_0025.nos.nc', '/data/c-quilo/CMCC/NoDA/SHYFEM_NO_ASSIM/sst_saniv1_chunk_0026.nos.nc', '/data/c-quilo/CMCC/NoDA/SHYFEM_NO_ASSIM/sst_saniv1_chunk_0027.nos.nc', '/data/c-quilo/CMCC/NoDA/SHYFEM_NO_ASSIM/sst_saniv1_chunk_0028.nos.nc', '/data/c-quilo/CMCC/NoDA/SHYFEM_NO_ASSIM/sst_saniv1_chunk_0029.nos.nc', '/data/c-quilo/CMCC/NoDA/SHYFEM_NO_ASSIM/sst_saniv1_chunk_0030.nos.nc', '/data/c-quilo/CMCC/NoDA/SHYFEM_NO_ASSIM/sst_saniv1_chunk_0031.nos.nc', '/data/c-quilo/CMCC/NoDA/SHYFEM_NO_ASSIM/sst_saniv1_chunk_0032.nos.nc', '/data/c-quilo/CMCC/NoDA/SHYFEM_NO_ASSIM/sst_saniv1_chunk_0033.nos.nc', '/data/c-quilo/CMCC/NoDA/SHYFEM_NO_ASSIM/sst_saniv1_chunk_0034.nos.nc', '/data/c-quilo/CMCC/NoDA/SHYFEM_NO_ASSIM/sst_saniv1_chunk_0035.nos.nc', '/data/c-quilo/CMCC/NoDA/SHYFEM_NO_ASSIM/sst_saniv1_chunk_0036.nos.nc', '/data/c-quilo/CMCC/NoDA/SHYFEM_NO_ASSIM/sst_saniv1_chunk_0037.nos.nc', '/data/c-quilo/CMCC/NoDA/SHYFEM_NO_ASSIM/sst_saniv1_chunk_0038.nos.nc', '/data/c-quilo/CMCC/NoDA/SHYFEM_NO_ASSIM/sst_saniv1_chunk_0039.nos.nc', '/data/c-quilo/CMCC/NoDA/SHYFEM_NO_ASSIM/sst_saniv1_chunk_0040.nos.nc', '/data/c-quilo/CMCC/NoDA/SHYFEM_NO_ASSIM/sst_saniv1_chunk_0041.nos.nc', '/data/c-quilo/CMCC/NoDA/SHYFEM_NO_ASSIM/sst_saniv1_chunk_0042.nos.nc', '/data/c-quilo/CMCC/NoDA/SHYFEM_NO_ASSIM/sst_saniv1_chunk_0043.nos.nc', '/data/c-quilo/CMCC/NoDA/SHYFEM_NO_ASSIM/sst_saniv1_chunk_0044.nos.nc', '/data/c-quilo/CMCC/NoDA/SHYFEM_NO_ASSIM/sst_saniv1_chunk_0045.nos.nc', '/data/c-quilo/CMCC/NoDA/SHYFEM_NO_ASSIM/sst_saniv1_chunk_0046.nos.nc', '/data/c-quilo/CMCC/NoDA/SHYFEM_NO_ASSIM/sst_saniv1_chunk_0047.nos.nc', '/data/c-quilo/CMCC/NoDA/SHYFEM_NO_ASSIM/sst_saniv1_chunk_0048.nos.nc', '/data/c-quilo/CMCC/NoDA/SHYFEM_NO_ASSIM/sst_saniv1_chunk_0049.nos.nc', '/data/c-quilo/CMCC/NoDA/SHYFEM_NO_ASSIM/sst_saniv1_chunk_0050.nos.nc', '/data/c-quilo/CMCC/NoDA/SHYFEM_NO_ASSIM/sst_saniv1_chunk_0051.nos.nc', '/data/c-quilo/CMCC/NoDA/SHYFEM_NO_ASSIM/sst_saniv1_chunk_0052.nos.nc', '/data/c-quilo/CMCC/NoDA/SHYFEM_NO_ASSIM/sst_saniv1_chunk_0053.nos.nc', '/data/c-quilo/CMCC/NoDA/SHYFEM_NO_ASSIM/sst_saniv1_chunk_0054.nos.nc', '/data/c-quilo/CMCC/NoDA/SHYFEM_NO_ASSIM/sst_saniv1_chunk_0055.nos.nc', '/data/c-quilo/CMCC/NoDA/SHYFEM_NO_ASSIM/sst_saniv1_chunk_0056.nos.nc', '/data/c-quilo/CMCC/NoDA/SHYFEM_NO_ASSIM/sst_saniv1_chunk_0057.nos.nc', '/data/c-quilo/CMCC/NoDA/SHYFEM_NO_ASSIM/sst_saniv1_chunk_0058.nos.nc', '/data/c-quilo/CMCC/NoDA/SHYFEM_NO_ASSIM/sst_saniv1_chunk_0059.nos.nc', '/data/c-quilo/CMCC/NoDA/SHYFEM_NO_ASSIM/sst_saniv1_chunk_0060.nos.nc', '/data/c-quilo/CMCC/NoDA/SHYFEM_NO_ASSIM/sst_saniv1_chunk_0061.nos.nc', '/data/c-quilo/CMCC/NoDA/SHYFEM_NO_ASSIM/sst_saniv1_chunk_0062.nos.nc', '/data/c-quilo/CMCC/NoDA/SHYFEM_NO_ASSIM/sst_saniv1_chunk_0063.nos.nc', '/data/c-quilo/CMCC/NoDA/SHYFEM_NO_ASSIM/sst_saniv1_chunk_0064.nos.nc', '/data/c-quilo/CMCC/NoDA/SHYFEM_NO_ASSIM/sst_saniv1_chunk_0065.nos.nc', '/data/c-quilo/CMCC/NoDA/SHYFEM_NO_ASSIM/sst_saniv1_chunk_0066.nos.nc', '/data/c-quilo/CMCC/NoDA/SHYFEM_NO_ASSIM/sst_saniv1_chunk_0067.nos.nc', '/data/c-quilo/CMCC/NoDA/SHYFEM_NO_ASSIM/sst_saniv1_chunk_0068.nos.nc', '/data/c-quilo/CMCC/NoDA/SHYFEM_NO_ASSIM/sst_saniv1_chunk_0069.nos.nc', '/data/c-quilo/CMCC/NoDA/SHYFEM_NO_ASSIM/sst_saniv1_chunk_0070.nos.nc', '/data/c-quilo/CMCC/NoDA/SHYFEM_NO_ASSIM/sst_saniv1_chunk_0071.nos.nc', '/data/c-quilo/CMCC/NoDA/SHYFEM_NO_ASSIM/sst_saniv1_chunk_0072.nos.nc', '/data/c-quilo/CMCC/NoDA/SHYFEM_NO_ASSIM/sst_saniv1_chunk_0073.nos.nc', '/data/c-quilo/CMCC/NoDA/SHYFEM_NO_ASSIM/sst_saniv1_chunk_0074.nos.nc', '/data/c-quilo/CMCC/NoDA/SHYFEM_NO_ASSIM/sst_saniv1_chunk_0075.nos.nc', '/data/c-quilo/CMCC/NoDA/SHYFEM_NO_ASSIM/sst_saniv1_chunk_0076.nos.nc', '/data/c-quilo/CMCC/NoDA/SHYFEM_NO_ASSIM/sst_saniv1_chunk_0077.nos.nc', '/data/c-quilo/CMCC/NoDA/SHYFEM_NO_ASSIM/sst_saniv1_chunk_0078.nos.nc', '/data/c-quilo/CMCC/NoDA/SHYFEM_NO_ASSIM/sst_saniv1_chunk_0079.nos.nc', '/data/c-quilo/CMCC/NoDA/SHYFEM_NO_ASSIM/sst_saniv1_chunk_0080.nos.nc', '/data/c-quilo/CMCC/NoDA/SHYFEM_NO_ASSIM/sst_saniv1_chunk_0081.nos.nc', '/data/c-quilo/CMCC/NoDA/SHYFEM_NO_ASSIM/sst_saniv1_chunk_0082.nos.nc', '/data/c-quilo/CMCC/NoDA/SHYFEM_NO_ASSIM/sst_saniv1_chunk_0083.nos.nc', '/data/c-quilo/CMCC/NoDA/SHYFEM_NO_ASSIM/sst_saniv1_chunk_0084.nos.nc', '/data/c-quilo/CMCC/NoDA/SHYFEM_NO_ASSIM/sst_saniv1_chunk_0085.nos.nc', '/data/c-quilo/CMCC/NoDA/SHYFEM_NO_ASSIM/sst_saniv1_chunk_0086.nos.nc', '/data/c-quilo/CMCC/NoDA/SHYFEM_NO_ASSIM/sst_saniv1_chunk_0087.nos.nc', '/data/c-quilo/CMCC/NoDA/SHYFEM_NO_ASSIM/sst_saniv1_chunk_0088.nos.nc', '/data/c-quilo/CMCC/NoDA/SHYFEM_NO_ASSIM/sst_saniv1_chunk_0089.nos.nc', '/data/c-quilo/CMCC/NoDA/SHYFEM_NO_ASSIM/sst_saniv1_chunk_0090.nos.nc', '/data/c-quilo/CMCC/NoDA/SHYFEM_NO_ASSIM/sst_saniv1_chunk_0091.nos.nc', '/data/c-quilo/CMCC/NoDA/SHYFEM_NO_ASSIM/sst_saniv1_chunk_0092.nos.nc', '/data/c-quilo/CMCC/NoDA/SHYFEM_NO_ASSIM/sst_saniv1_chunk_0093.nos.nc', '/data/c-quilo/CMCC/NoDA/SHYFEM_NO_ASSIM/sst_saniv1_chunk_0094.nos.nc', '/data/c-quilo/CMCC/NoDA/SHYFEM_NO_ASSIM/sst_saniv1_chunk_0095.nos.nc', '/data/c-quilo/CMCC/NoDA/SHYFEM_NO_ASSIM/sst_saniv1_chunk_0096.nos.nc', '/data/c-quilo/CMCC/NoDA/SHYFEM_NO_ASSIM/sst_saniv1_chunk_0097.nos.nc', '/data/c-quilo/CMCC/NoDA/SHYFEM_NO_ASSIM/sst_saniv1_chunk_0098.nos.nc', '/data/c-quilo/CMCC/NoDA/SHYFEM_NO_ASSIM/sst_saniv1_chunk_0099.nos.nc', '/data/c-quilo/CMCC/NoDA/SHYFEM_NO_ASSIM/sst_saniv1_chunk_0100.nos.nc', '/data/c-quilo/CMCC/NoDA/SHYFEM_NO_ASSIM/sst_saniv1_chunk_0101.nos.nc', '/data/c-quilo/CMCC/NoDA/SHYFEM_NO_ASSIM/sst_saniv1_chunk_0102.nos.nc', '/data/c-quilo/CMCC/NoDA/SHYFEM_NO_ASSIM/sst_saniv1_chunk_0103.nos.nc', '/data/c-quilo/CMCC/NoDA/SHYFEM_NO_ASSIM/sst_saniv1_chunk_0104.nos.nc', '/data/c-quilo/CMCC/NoDA/SHYFEM_NO_ASSIM/sst_saniv1_chunk_0105.nos.nc', '/data/c-quilo/CMCC/NoDA/SHYFEM_NO_ASSIM/sst_saniv1_chunk_0106.nos.nc', '/data/c-quilo/CMCC/NoDA/SHYFEM_NO_ASSIM/sst_saniv1_chunk_0107.nos.nc', '/data/c-quilo/CMCC/NoDA/SHYFEM_NO_ASSIM/sst_saniv1_chunk_0108.nos.nc', '/data/c-quilo/CMCC/NoDA/SHYFEM_NO_ASSIM/sst_saniv1_chunk_0109.nos.nc', '/data/c-quilo/CMCC/NoDA/SHYFEM_NO_ASSIM/sst_saniv1_chunk_0110.nos.nc', '/data/c-quilo/CMCC/NoDA/SHYFEM_NO_ASSIM/sst_saniv1_chunk_0111.nos.nc', '/data/c-quilo/CMCC/NoDA/SHYFEM_NO_ASSIM/sst_saniv1_chunk_0112.nos.nc', '/data/c-quilo/CMCC/NoDA/SHYFEM_NO_ASSIM/sst_saniv1_chunk_0113.nos.nc', '/data/c-quilo/CMCC/NoDA/SHYFEM_NO_ASSIM/sst_saniv1_chunk_0114.nos.nc', '/data/c-quilo/CMCC/NoDA/SHYFEM_NO_ASSIM/sst_saniv1_chunk_0115.nos.nc', '/data/c-quilo/CMCC/NoDA/SHYFEM_NO_ASSIM/sst_saniv1_chunk_0116.nos.nc', '/data/c-quilo/CMCC/NoDA/SHYFEM_NO_ASSIM/sst_saniv1_chunk_0117.nos.nc', '/data/c-quilo/CMCC/NoDA/SHYFEM_NO_ASSIM/sst_saniv1_chunk_0118.nos.nc', '/data/c-quilo/CMCC/NoDA/SHYFEM_NO_ASSIM/sst_saniv1_chunk_0119.nos.nc', '/data/c-quilo/CMCC/NoDA/SHYFEM_NO_ASSIM/sst_saniv1_chunk_0120.nos.nc', '/data/c-quilo/CMCC/NoDA/SHYFEM_NO_ASSIM/sst_saniv1_chunk_0121.nos.nc', '/data/c-quilo/CMCC/NoDA/SHYFEM_NO_ASSIM/sst_saniv1_chunk_0122.nos.nc', '/data/c-quilo/CMCC/NoDA/SHYFEM_NO_ASSIM/sst_saniv1_chunk_0123.nos.nc', '/data/c-quilo/CMCC/NoDA/SHYFEM_NO_ASSIM/sst_saniv1_chunk_0124.nos.nc', '/data/c-quilo/CMCC/NoDA/SHYFEM_NO_ASSIM/sst_saniv1_chunk_0125.nos.nc', '/data/c-quilo/CMCC/NoDA/SHYFEM_NO_ASSIM/sst_saniv1_chunk_0126.nos.nc', '/data/c-quilo/CMCC/NoDA/SHYFEM_NO_ASSIM/sst_saniv1_chunk_0127.nos.nc', '/data/c-quilo/CMCC/NoDA/SHYFEM_NO_ASSIM/sst_saniv1_chunk_0128.nos.nc', '/data/c-quilo/CMCC/NoDA/SHYFEM_NO_ASSIM/sst_saniv1_chunk_0129.nos.nc', '/data/c-quilo/CMCC/NoDA/SHYFEM_NO_ASSIM/sst_saniv1_chunk_0130.nos.nc', '/data/c-quilo/CMCC/NoDA/SHYFEM_NO_ASSIM/sst_saniv1_chunk_0131.nos.nc', '/data/c-quilo/CMCC/NoDA/SHYFEM_NO_ASSIM/sst_saniv1_chunk_0132.nos.nc', '/data/c-quilo/CMCC/NoDA/SHYFEM_NO_ASSIM/sst_saniv1_chunk_0133.nos.nc', '/data/c-quilo/CMCC/NoDA/SHYFEM_NO_ASSIM/sst_saniv1_chunk_0134.nos.nc', '/data/c-quilo/CMCC/NoDA/SHYFEM_NO_ASSIM/sst_saniv1_chunk_0135.nos.nc', '/data/c-quilo/CMCC/NoDA/SHYFEM_NO_ASSIM/sst_saniv1_chunk_0136.nos.nc', '/data/c-quilo/CMCC/NoDA/SHYFEM_NO_ASSIM/sst_saniv1_chunk_0137.nos.nc', '/data/c-quilo/CMCC/NoDA/SHYFEM_NO_ASSIM/sst_saniv1_chunk_0138.nos.nc', '/data/c-quilo/CMCC/NoDA/SHYFEM_NO_ASSIM/sst_saniv1_chunk_0139.nos.nc', '/data/c-quilo/CMCC/NoDA/SHYFEM_NO_ASSIM/sst_saniv1_chunk_0140.nos.nc', '/data/c-quilo/CMCC/NoDA/SHYFEM_NO_ASSIM/sst_saniv1_chunk_0141.nos.nc', '/data/c-quilo/CMCC/NoDA/SHYFEM_NO_ASSIM/sst_saniv1_chunk_0142.nos.nc', '/data/c-quilo/CMCC/NoDA/SHYFEM_NO_ASSIM/sst_saniv1_chunk_0143.nos.nc', '/data/c-quilo/CMCC/NoDA/SHYFEM_NO_ASSIM/sst_saniv1_chunk_0144.nos.nc', '/data/c-quilo/CMCC/NoDA/SHYFEM_NO_ASSIM/sst_saniv1_chunk_0145.nos.nc', '/data/c-quilo/CMCC/NoDA/SHYFEM_NO_ASSIM/sst_saniv1_chunk_0146.nos.nc', '/data/c-quilo/CMCC/NoDA/SHYFEM_NO_ASSIM/sst_saniv1_chunk_0147.nos.nc', '/data/c-quilo/CMCC/NoDA/SHYFEM_NO_ASSIM/sst_saniv1_chunk_0148.nos.nc', '/data/c-quilo/CMCC/NoDA/SHYFEM_NO_ASSIM/sst_saniv1_chunk_0149.nos.nc', '/data/c-quilo/CMCC/NoDA/SHYFEM_NO_ASSIM/sst_saniv1_chunk_0150.nos.nc', '/data/c-quilo/CMCC/NoDA/SHYFEM_NO_ASSIM/sst_saniv1_chunk_0151.nos.nc', '/data/c-quilo/CMCC/NoDA/SHYFEM_NO_ASSIM/sst_saniv1_chunk_0152.nos.nc', '/data/c-quilo/CMCC/NoDA/SHYFEM_NO_ASSIM/sst_saniv1_chunk_0153.nos.nc', '/data/c-quilo/CMCC/NoDA/SHYFEM_NO_ASSIM/sst_saniv1_chunk_0154.nos.nc', '/data/c-quilo/CMCC/NoDA/SHYFEM_NO_ASSIM/sst_saniv1_chunk_0155.nos.nc', '/data/c-quilo/CMCC/NoDA/SHYFEM_NO_ASSIM/sst_saniv1_chunk_0156.nos.nc', '/data/c-quilo/CMCC/NoDA/SHYFEM_NO_ASSIM/sst_saniv1_chunk_0157.nos.nc', '/data/c-quilo/CMCC/NoDA/SHYFEM_NO_ASSIM/sst_saniv1_chunk_0158.nos.nc', '/data/c-quilo/CMCC/NoDA/SHYFEM_NO_ASSIM/sst_saniv1_chunk_0159.nos.nc', '/data/c-quilo/CMCC/NoDA/SHYFEM_NO_ASSIM/sst_saniv1_chunk_0160.nos.nc', '/data/c-quilo/CMCC/NoDA/SHYFEM_NO_ASSIM/sst_saniv1_chunk_0161.nos.nc', '/data/c-quilo/CMCC/NoDA/SHYFEM_NO_ASSIM/sst_saniv1_chunk_0162.nos.nc', '/data/c-quilo/CMCC/NoDA/SHYFEM_NO_ASSIM/sst_saniv1_chunk_0163.nos.nc', '/data/c-quilo/CMCC/NoDA/SHYFEM_NO_ASSIM/sst_saniv1_chunk_0164.nos.nc', '/data/c-quilo/CMCC/NoDA/SHYFEM_NO_ASSIM/sst_saniv1_chunk_0165.nos.nc', '/data/c-quilo/CMCC/NoDA/SHYFEM_NO_ASSIM/sst_saniv1_chunk_0166.nos.nc', '/data/c-quilo/CMCC/NoDA/SHYFEM_NO_ASSIM/sst_saniv1_chunk_0167.nos.nc', '/data/c-quilo/CMCC/NoDA/SHYFEM_NO_ASSIM/sst_saniv1_chunk_0168.nos.nc', '/data/c-quilo/CMCC/NoDA/SHYFEM_NO_ASSIM/sst_saniv1_chunk_0169.nos.nc', '/data/c-quilo/CMCC/NoDA/SHYFEM_NO_ASSIM/sst_saniv1_chunk_0170.nos.nc', '/data/c-quilo/CMCC/NoDA/SHYFEM_NO_ASSIM/sst_saniv1_chunk_0171.nos.nc', '/data/c-quilo/CMCC/NoDA/SHYFEM_NO_ASSIM/sst_saniv1_chunk_0172.nos.nc', '/data/c-quilo/CMCC/NoDA/SHYFEM_NO_ASSIM/sst_saniv1_chunk_0173.nos.nc', '/data/c-quilo/CMCC/NoDA/SHYFEM_NO_ASSIM/sst_saniv1_chunk_0174.nos.nc', '/data/c-quilo/CMCC/NoDA/SHYFEM_NO_ASSIM/sst_saniv1_chunk_0175.nos.nc', '/data/c-quilo/CMCC/NoDA/SHYFEM_NO_ASSIM/sst_saniv1_chunk_0176.nos.nc', '/data/c-quilo/CMCC/NoDA/SHYFEM_NO_ASSIM/sst_saniv1_chunk_0177.nos.nc', '/data/c-quilo/CMCC/NoDA/SHYFEM_NO_ASSIM/sst_saniv1_chunk_0178.nos.nc', '/data/c-quilo/CMCC/NoDA/SHYFEM_NO_ASSIM/sst_saniv1_chunk_0179.nos.nc', '/data/c-quilo/CMCC/NoDA/SHYFEM_NO_ASSIM/sst_saniv1_chunk_0180.nos.nc', '/data/c-quilo/CMCC/NoDA/SHYFEM_NO_ASSIM/sst_saniv1_chunk_0181.nos.nc', '/data/c-quilo/CMCC/NoDA/SHYFEM_NO_ASSIM/sst_saniv1_chunk_0182.nos.nc', '/data/c-quilo/CMCC/NoDA/SHYFEM_NO_ASSIM/sst_saniv1_chunk_0183.nos.nc', '/data/c-quilo/CMCC/NoDA/SHYFEM_NO_ASSIM/sst_saniv1_chunk_0184.nos.nc', '/data/c-quilo/CMCC/NoDA/SHYFEM_NO_ASSIM/sst_saniv1_chunk_0185.nos.nc', '/data/c-quilo/CMCC/NoDA/SHYFEM_NO_ASSIM/sst_saniv1_chunk_0186.nos.nc', '/data/c-quilo/CMCC/NoDA/SHYFEM_NO_ASSIM/sst_saniv1_chunk_0187.nos.nc', '/data/c-quilo/CMCC/NoDA/SHYFEM_NO_ASSIM/sst_saniv1_chunk_0188.nos.nc', '/data/c-quilo/CMCC/NoDA/SHYFEM_NO_ASSIM/sst_saniv1_chunk_0189.nos.nc', '/data/c-quilo/CMCC/NoDA/SHYFEM_NO_ASSIM/sst_saniv1_chunk_0190.nos.nc', '/data/c-quilo/CMCC/NoDA/SHYFEM_NO_ASSIM/sst_saniv1_chunk_0191.nos.nc', '/data/c-quilo/CMCC/NoDA/SHYFEM_NO_ASSIM/sst_saniv1_chunk_0192.nos.nc', '/data/c-quilo/CMCC/NoDA/SHYFEM_NO_ASSIM/sst_saniv1_chunk_0193.nos.nc', '/data/c-quilo/CMCC/NoDA/SHYFEM_NO_ASSIM/sst_saniv1_chunk_0194.nos.nc', '/data/c-quilo/CMCC/NoDA/SHYFEM_NO_ASSIM/sst_saniv1_chunk_0195.nos.nc', '/data/c-quilo/CMCC/NoDA/SHYFEM_NO_ASSIM/sst_saniv1_chunk_0196.nos.nc', '/data/c-quilo/CMCC/NoDA/SHYFEM_NO_ASSIM/sst_saniv1_chunk_0197.nos.nc', '/data/c-quilo/CMCC/NoDA/SHYFEM_NO_ASSIM/sst_saniv1_chunk_0198.nos.nc', '/data/c-quilo/CMCC/NoDA/SHYFEM_NO_ASSIM/sst_saniv1_chunk_0199.nos.nc', '/data/c-quilo/CMCC/NoDA/SHYFEM_NO_ASSIM/sst_saniv1_chunk_0200.nos.nc', '/data/c-quilo/CMCC/NoDA/SHYFEM_NO_ASSIM/sst_saniv1_chunk_0201.nos.nc', '/data/c-quilo/CMCC/NoDA/SHYFEM_NO_ASSIM/sst_saniv1_chunk_0202.nos.nc', '/data/c-quilo/CMCC/NoDA/SHYFEM_NO_ASSIM/sst_saniv1_chunk_0203.nos.nc', '/data/c-quilo/CMCC/NoDA/SHYFEM_NO_ASSIM/sst_saniv1_chunk_0204.nos.nc', '/data/c-quilo/CMCC/NoDA/SHYFEM_NO_ASSIM/sst_saniv1_chunk_0205.nos.nc', '/data/c-quilo/CMCC/NoDA/SHYFEM_NO_ASSIM/sst_saniv1_chunk_0206.nos.nc', '/data/c-quilo/CMCC/NoDA/SHYFEM_NO_ASSIM/sst_saniv1_chunk_0207.nos.nc', '/data/c-quilo/CMCC/NoDA/SHYFEM_NO_ASSIM/sst_saniv1_chunk_0208.nos.nc', '/data/c-quilo/CMCC/NoDA/SHYFEM_NO_ASSIM/sst_saniv1_chunk_0209.nos.nc', '/data/c-quilo/CMCC/NoDA/SHYFEM_NO_ASSIM/sst_saniv1_chunk_0210.nos.nc', '/data/c-quilo/CMCC/NoDA/SHYFEM_NO_ASSIM/sst_saniv1_chunk_0211.nos.nc', '/data/c-quilo/CMCC/NoDA/SHYFEM_NO_ASSIM/sst_saniv1_chunk_0212.nos.nc', '/data/c-quilo/CMCC/NoDA/SHYFEM_NO_ASSIM/sst_saniv1_chunk_0213.nos.nc', '/data/c-quilo/CMCC/NoDA/SHYFEM_NO_ASSIM/sst_saniv1_chunk_0214.nos.nc', '/data/c-quilo/CMCC/NoDA/SHYFEM_NO_ASSIM/sst_saniv1_chunk_0215.nos.nc', '/data/c-quilo/CMCC/NoDA/SHYFEM_NO_ASSIM/sst_saniv1_chunk_0216.nos.nc', '/data/c-quilo/CMCC/NoDA/SHYFEM_NO_ASSIM/sst_saniv1_chunk_0217.nos.nc', '/data/c-quilo/CMCC/NoDA/SHYFEM_NO_ASSIM/sst_saniv1_chunk_0218.nos.nc', '/data/c-quilo/CMCC/NoDA/SHYFEM_NO_ASSIM/sst_saniv1_chunk_0219.nos.nc', '/data/c-quilo/CMCC/NoDA/SHYFEM_NO_ASSIM/sst_saniv1_chunk_0220.nos.nc', '/data/c-quilo/CMCC/NoDA/SHYFEM_NO_ASSIM/sst_saniv1_chunk_0221.nos.nc', '/data/c-quilo/CMCC/NoDA/SHYFEM_NO_ASSIM/sst_saniv1_chunk_0222.nos.nc', '/data/c-quilo/CMCC/NoDA/SHYFEM_NO_ASSIM/sst_saniv1_chunk_0223.nos.nc', '/data/c-quilo/CMCC/NoDA/SHYFEM_NO_ASSIM/sst_saniv1_chunk_0224.nos.nc', '/data/c-quilo/CMCC/NoDA/SHYFEM_NO_ASSIM/sst_saniv1_chunk_0225.nos.nc', '/data/c-quilo/CMCC/NoDA/SHYFEM_NO_ASSIM/sst_saniv1_chunk_0226.nos.nc', '/data/c-quilo/CMCC/NoDA/SHYFEM_NO_ASSIM/sst_saniv1_chunk_0227.nos.nc', '/data/c-quilo/CMCC/NoDA/SHYFEM_NO_ASSIM/sst_saniv1_chunk_0228.nos.nc', '/data/c-quilo/CMCC/NoDA/SHYFEM_NO_ASSIM/sst_saniv1_chunk_0229.nos.nc', '/data/c-quilo/CMCC/NoDA/SHYFEM_NO_ASSIM/sst_saniv1_chunk_0230.nos.nc', '/data/c-quilo/CMCC/NoDA/SHYFEM_NO_ASSIM/sst_saniv1_chunk_0231.nos.nc', '/data/c-quilo/CMCC/NoDA/SHYFEM_NO_ASSIM/sst_saniv1_chunk_0232.nos.nc', '/data/c-quilo/CMCC/NoDA/SHYFEM_NO_ASSIM/sst_saniv1_chunk_0233.nos.nc', '/data/c-quilo/CMCC/NoDA/SHYFEM_NO_ASSIM/sst_saniv1_chunk_0234.nos.nc', '/data/c-quilo/CMCC/NoDA/SHYFEM_NO_ASSIM/sst_saniv1_chunk_0235.nos.nc', '/data/c-quilo/CMCC/NoDA/SHYFEM_NO_ASSIM/sst_saniv1_chunk_0236.nos.nc', '/data/c-quilo/CMCC/NoDA/SHYFEM_NO_ASSIM/sst_saniv1_chunk_0237.nos.nc', '/data/c-quilo/CMCC/NoDA/SHYFEM_NO_ASSIM/sst_saniv1_chunk_0238.nos.nc', '/data/c-quilo/CMCC/NoDA/SHYFEM_NO_ASSIM/sst_saniv1_chunk_0239.nos.nc', '/data/c-quilo/CMCC/NoDA/SHYFEM_NO_ASSIM/sst_saniv1_chunk_0240.nos.nc', '/data/c-quilo/CMCC/NoDA/SHYFEM_NO_ASSIM/sst_saniv1_chunk_0241.nos.nc', '/data/c-quilo/CMCC/NoDA/SHYFEM_NO_ASSIM/sst_saniv1_chunk_0242.nos.nc', '/data/c-quilo/CMCC/NoDA/SHYFEM_NO_ASSIM/sst_saniv1_chunk_0243.nos.nc', '/data/c-quilo/CMCC/NoDA/SHYFEM_NO_ASSIM/sst_saniv1_chunk_0244.nos.nc', '/data/c-quilo/CMCC/NoDA/SHYFEM_NO_ASSIM/sst_saniv1_chunk_0245.nos.nc', '/data/c-quilo/CMCC/NoDA/SHYFEM_NO_ASSIM/sst_saniv1_chunk_0246.nos.nc', '/data/c-quilo/CMCC/NoDA/SHYFEM_NO_ASSIM/sst_saniv1_chunk_0247.nos.nc', '/data/c-quilo/CMCC/NoDA/SHYFEM_NO_ASSIM/sst_saniv1_chunk_0248.nos.nc', '/data/c-quilo/CMCC/NoDA/SHYFEM_NO_ASSIM/sst_saniv1_chunk_0249.nos.nc', '/data/c-quilo/CMCC/NoDA/SHYFEM_NO_ASSIM/sst_saniv1_chunk_0250.nos.nc', '/data/c-quilo/CMCC/NoDA/SHYFEM_NO_ASSIM/sst_saniv1_chunk_0251.nos.nc', '/data/c-quilo/CMCC/NoDA/SHYFEM_NO_ASSIM/sst_saniv1_chunk_0252.nos.nc', '/data/c-quilo/CMCC/NoDA/SHYFEM_NO_ASSIM/sst_saniv1_chunk_0253.nos.nc', '/data/c-quilo/CMCC/NoDA/SHYFEM_NO_ASSIM/sst_saniv1_chunk_0254.nos.nc', '/data/c-quilo/CMCC/NoDA/SHYFEM_NO_ASSIM/sst_saniv1_chunk_0255.nos.nc', '/data/c-quilo/CMCC/NoDA/SHYFEM_NO_ASSIM/sst_saniv1_chunk_0256.nos.nc', '/data/c-quilo/CMCC/NoDA/SHYFEM_NO_ASSIM/sst_saniv1_chunk_0257.nos.nc', '/data/c-quilo/CMCC/NoDA/SHYFEM_NO_ASSIM/sst_saniv1_chunk_0258.nos.nc', '/data/c-quilo/CMCC/NoDA/SHYFEM_NO_ASSIM/sst_saniv1_chunk_0259.nos.nc', '/data/c-quilo/CMCC/NoDA/SHYFEM_NO_ASSIM/sst_saniv1_chunk_0260.nos.nc', '/data/c-quilo/CMCC/NoDA/SHYFEM_NO_ASSIM/sst_saniv1_chunk_0261.nos.nc', '/data/c-quilo/CMCC/NoDA/SHYFEM_NO_ASSIM/sst_saniv1_chunk_0262.nos.nc', '/data/c-quilo/CMCC/NoDA/SHYFEM_NO_ASSIM/sst_saniv1_chunk_0263.nos.nc', '/data/c-quilo/CMCC/NoDA/SHYFEM_NO_ASSIM/sst_saniv1_chunk_0264.nos.nc', '/data/c-quilo/CMCC/NoDA/SHYFEM_NO_ASSIM/sst_saniv1_chunk_0265.nos.nc', '/data/c-quilo/CMCC/NoDA/SHYFEM_NO_ASSIM/sst_saniv1_chunk_0266.nos.nc', '/data/c-quilo/CMCC/NoDA/SHYFEM_NO_ASSIM/sst_saniv1_chunk_0267.nos.nc', '/data/c-quilo/CMCC/NoDA/SHYFEM_NO_ASSIM/sst_saniv1_chunk_0268.nos.nc', '/data/c-quilo/CMCC/NoDA/SHYFEM_NO_ASSIM/sst_saniv1_chunk_0269.nos.nc', '/data/c-quilo/CMCC/NoDA/SHYFEM_NO_ASSIM/sst_saniv1_chunk_0270.nos.nc', '/data/c-quilo/CMCC/NoDA/SHYFEM_NO_ASSIM/sst_saniv1_chunk_0271.nos.nc', '/data/c-quilo/CMCC/NoDA/SHYFEM_NO_ASSIM/sst_saniv1_chunk_0272.nos.nc', '/data/c-quilo/CMCC/NoDA/SHYFEM_NO_ASSIM/sst_saniv1_chunk_0273.nos.nc', '/data/c-quilo/CMCC/NoDA/SHYFEM_NO_ASSIM/sst_saniv1_chunk_0274.nos.nc', '/data/c-quilo/CMCC/NoDA/SHYFEM_NO_ASSIM/sst_saniv1_chunk_0275.nos.nc', '/data/c-quilo/CMCC/NoDA/SHYFEM_NO_ASSIM/sst_saniv1_chunk_0276.nos.nc', '/data/c-quilo/CMCC/NoDA/SHYFEM_NO_ASSIM/sst_saniv1_chunk_0277.nos.nc', '/data/c-quilo/CMCC/NoDA/SHYFEM_NO_ASSIM/sst_saniv1_chunk_0278.nos.nc', '/data/c-quilo/CMCC/NoDA/SHYFEM_NO_ASSIM/sst_saniv1_chunk_0279.nos.nc', '/data/c-quilo/CMCC/NoDA/SHYFEM_NO_ASSIM/sst_saniv1_chunk_0280.nos.nc', '/data/c-quilo/CMCC/NoDA/SHYFEM_NO_ASSIM/sst_saniv1_chunk_0281.nos.nc', '/data/c-quilo/CMCC/NoDA/SHYFEM_NO_ASSIM/sst_saniv1_chunk_0282.nos.nc', '/data/c-quilo/CMCC/NoDA/SHYFEM_NO_ASSIM/sst_saniv1_chunk_0283.nos.nc', '/data/c-quilo/CMCC/NoDA/SHYFEM_NO_ASSIM/sst_saniv1_chunk_0284.nos.nc', '/data/c-quilo/CMCC/NoDA/SHYFEM_NO_ASSIM/sst_saniv1_chunk_0285.nos.nc', '/data/c-quilo/CMCC/NoDA/SHYFEM_NO_ASSIM/sst_saniv1_chunk_0286.nos.nc', '/data/c-quilo/CMCC/NoDA/SHYFEM_NO_ASSIM/sst_saniv1_chunk_0287.nos.nc', '/data/c-quilo/CMCC/NoDA/SHYFEM_NO_ASSIM/sst_saniv1_chunk_0288.nos.nc', '/data/c-quilo/CMCC/NoDA/SHYFEM_NO_ASSIM/sst_saniv1_chunk_0289.nos.nc', '/data/c-quilo/CMCC/NoDA/SHYFEM_NO_ASSIM/sst_saniv1_chunk_0290.nos.nc', '/data/c-quilo/CMCC/NoDA/SHYFEM_NO_ASSIM/sst_saniv1_chunk_0291.nos.nc', '/data/c-quilo/CMCC/NoDA/SHYFEM_NO_ASSIM/sst_saniv1_chunk_0292.nos.nc', '/data/c-quilo/CMCC/NoDA/SHYFEM_NO_ASSIM/sst_saniv1_chunk_0293.nos.nc', '/data/c-quilo/CMCC/NoDA/SHYFEM_NO_ASSIM/sst_saniv1_chunk_0294.nos.nc', '/data/c-quilo/CMCC/NoDA/SHYFEM_NO_ASSIM/sst_saniv1_chunk_0295.nos.nc', '/data/c-quilo/CMCC/NoDA/SHYFEM_NO_ASSIM/sst_saniv1_chunk_0296.nos.nc', '/data/c-quilo/CMCC/NoDA/SHYFEM_NO_ASSIM/sst_saniv1_chunk_0297.nos.nc', '/data/c-quilo/CMCC/NoDA/SHYFEM_NO_ASSIM/sst_saniv1_chunk_0298.nos.nc', '/data/c-quilo/CMCC/NoDA/SHYFEM_NO_ASSIM/sst_saniv1_chunk_0299.nos.nc', '/data/c-quilo/CMCC/NoDA/SHYFEM_NO_ASSIM/sst_saniv1_chunk_0300.nos.nc', '/data/c-quilo/CMCC/NoDA/SHYFEM_NO_ASSIM/sst_saniv1_chunk_0301.nos.nc', '/data/c-quilo/CMCC/NoDA/SHYFEM_NO_ASSIM/sst_saniv1_chunk_0302.nos.nc', '/data/c-quilo/CMCC/NoDA/SHYFEM_NO_ASSIM/sst_saniv1_chunk_0303.nos.nc', '/data/c-quilo/CMCC/NoDA/SHYFEM_NO_ASSIM/sst_saniv1_chunk_0304.nos.nc', '/data/c-quilo/CMCC/NoDA/SHYFEM_NO_ASSIM/sst_saniv1_chunk_0305.nos.nc', '/data/c-quilo/CMCC/NoDA/SHYFEM_NO_ASSIM/sst_saniv1_chunk_0306.nos.nc', '/data/c-quilo/CMCC/NoDA/SHYFEM_NO_ASSIM/sst_saniv1_chunk_0307.nos.nc', '/data/c-quilo/CMCC/NoDA/SHYFEM_NO_ASSIM/sst_saniv1_chunk_0308.nos.nc', '/data/c-quilo/CMCC/NoDA/SHYFEM_NO_ASSIM/sst_saniv1_chunk_0309.nos.nc', '/data/c-quilo/CMCC/NoDA/SHYFEM_NO_ASSIM/sst_saniv1_chunk_0310.nos.nc', '/data/c-quilo/CMCC/NoDA/SHYFEM_NO_ASSIM/sst_saniv1_chunk_0311.nos.nc', '/data/c-quilo/CMCC/NoDA/SHYFEM_NO_ASSIM/sst_saniv1_chunk_0312.nos.nc', '/data/c-quilo/CMCC/NoDA/SHYFEM_NO_ASSIM/sst_saniv1_chunk_0313.nos.nc', '/data/c-quilo/CMCC/NoDA/SHYFEM_NO_ASSIM/sst_saniv1_chunk_0314.nos.nc', '/data/c-quilo/CMCC/NoDA/SHYFEM_NO_ASSIM/sst_saniv1_chunk_0315.nos.nc', '/data/c-quilo/CMCC/NoDA/SHYFEM_NO_ASSIM/sst_saniv1_chunk_0316.nos.nc', '/data/c-quilo/CMCC/NoDA/SHYFEM_NO_ASSIM/sst_saniv1_chunk_0317.nos.nc', '/data/c-quilo/CMCC/NoDA/SHYFEM_NO_ASSIM/sst_saniv1_chunk_0318.nos.nc', '/data/c-quilo/CMCC/NoDA/SHYFEM_NO_ASSIM/sst_saniv1_chunk_0319.nos.nc', '/data/c-quilo/CMCC/NoDA/SHYFEM_NO_ASSIM/sst_saniv1_chunk_0320.nos.nc', '/data/c-quilo/CMCC/NoDA/SHYFEM_NO_ASSIM/sst_saniv1_chunk_0321.nos.nc', '/data/c-quilo/CMCC/NoDA/SHYFEM_NO_ASSIM/sst_saniv1_chunk_0322.nos.nc', '/data/c-quilo/CMCC/NoDA/SHYFEM_NO_ASSIM/sst_saniv1_chunk_0323.nos.nc', '/data/c-quilo/CMCC/NoDA/SHYFEM_NO_ASSIM/sst_saniv1_chunk_0324.nos.nc', '/data/c-quilo/CMCC/NoDA/SHYFEM_NO_ASSIM/sst_saniv1_chunk_0325.nos.nc', '/data/c-quilo/CMCC/NoDA/SHYFEM_NO_ASSIM/sst_saniv1_chunk_0326.nos.nc', '/data/c-quilo/CMCC/NoDA/SHYFEM_NO_ASSIM/sst_saniv1_chunk_0327.nos.nc', '/data/c-quilo/CMCC/NoDA/SHYFEM_NO_ASSIM/sst_saniv1_chunk_0328.nos.nc', '/data/c-quilo/CMCC/NoDA/SHYFEM_NO_ASSIM/sst_saniv1_chunk_0329.nos.nc', '/data/c-quilo/CMCC/NoDA/SHYFEM_NO_ASSIM/sst_saniv1_chunk_0330.nos.nc', '/data/c-quilo/CMCC/NoDA/SHYFEM_NO_ASSIM/sst_saniv1_chunk_0331.nos.nc', '/data/c-quilo/CMCC/NoDA/SHYFEM_NO_ASSIM/sst_saniv1_chunk_0332.nos.nc', '/data/c-quilo/CMCC/NoDA/SHYFEM_NO_ASSIM/sst_saniv1_chunk_0333.nos.nc', '/data/c-quilo/CMCC/NoDA/SHYFEM_NO_ASSIM/sst_saniv1_chunk_0334.nos.nc', '/data/c-quilo/CMCC/NoDA/SHYFEM_NO_ASSIM/sst_saniv1_chunk_0335.nos.nc', '/data/c-quilo/CMCC/NoDA/SHYFEM_NO_ASSIM/sst_saniv1_chunk_0336.nos.nc', '/data/c-quilo/CMCC/NoDA/SHYFEM_NO_ASSIM/sst_saniv1_chunk_0337.nos.nc', '/data/c-quilo/CMCC/NoDA/SHYFEM_NO_ASSIM/sst_saniv1_chunk_0338.nos.nc', '/data/c-quilo/CMCC/NoDA/SHYFEM_NO_ASSIM/sst_saniv1_chunk_0339.nos.nc', '/data/c-quilo/CMCC/NoDA/SHYFEM_NO_ASSIM/sst_saniv1_chunk_0340.nos.nc', '/data/c-quilo/CMCC/NoDA/SHYFEM_NO_ASSIM/sst_saniv1_chunk_0341.nos.nc', '/data/c-quilo/CMCC/NoDA/SHYFEM_NO_ASSIM/sst_saniv1_chunk_0342.nos.nc', '/data/c-quilo/CMCC/NoDA/SHYFEM_NO_ASSIM/sst_saniv1_chunk_0343.nos.nc', '/data/c-quilo/CMCC/NoDA/SHYFEM_NO_ASSIM/sst_saniv1_chunk_0344.nos.nc', '/data/c-quilo/CMCC/NoDA/SHYFEM_NO_ASSIM/sst_saniv1_chunk_0345.nos.nc', '/data/c-quilo/CMCC/NoDA/SHYFEM_NO_ASSIM/sst_saniv1_chunk_0346.nos.nc', '/data/c-quilo/CMCC/NoDA/SHYFEM_NO_ASSIM/sst_saniv1_chunk_0347.nos.nc', '/data/c-quilo/CMCC/NoDA/SHYFEM_NO_ASSIM/sst_saniv1_chunk_0348.nos.nc', '/data/c-quilo/CMCC/NoDA/SHYFEM_NO_ASSIM/sst_saniv1_chunk_0349.nos.nc', '/data/c-quilo/CMCC/NoDA/SHYFEM_NO_ASSIM/sst_saniv1_chunk_0350.nos.nc', '/data/c-quilo/CMCC/NoDA/SHYFEM_NO_ASSIM/sst_saniv1_chunk_0351.nos.nc', '/data/c-quilo/CMCC/NoDA/SHYFEM_NO_ASSIM/sst_saniv1_chunk_0352.nos.nc', '/data/c-quilo/CMCC/NoDA/SHYFEM_NO_ASSIM/sst_saniv1_chunk_0353.nos.nc', '/data/c-quilo/CMCC/NoDA/SHYFEM_NO_ASSIM/sst_saniv1_chunk_0354.nos.nc', '/data/c-quilo/CMCC/NoDA/SHYFEM_NO_ASSIM/sst_saniv1_chunk_0355.nos.nc', '/data/c-quilo/CMCC/NoDA/SHYFEM_NO_ASSIM/sst_saniv1_chunk_0356.nos.nc', '/data/c-quilo/CMCC/NoDA/SHYFEM_NO_ASSIM/sst_saniv1_chunk_0357.nos.nc', '/data/c-quilo/CMCC/NoDA/SHYFEM_NO_ASSIM/sst_saniv1_chunk_0358.nos.nc', '/data/c-quilo/CMCC/NoDA/SHYFEM_NO_ASSIM/sst_saniv1_chunk_0359.nos.nc', '/data/c-quilo/CMCC/NoDA/SHYFEM_NO_ASSIM/sst_saniv1_chunk_0360.nos.nc', '/data/c-quilo/CMCC/NoDA/SHYFEM_NO_ASSIM/sst_saniv1_chunk_0361.nos.nc', '/data/c-quilo/CMCC/NoDA/SHYFEM_NO_ASSIM/sst_saniv1_chunk_0362.nos.nc', '/data/c-quilo/CMCC/NoDA/SHYFEM_NO_ASSIM/sst_saniv1_chunk_0363.nos.nc', '/data/c-quilo/CMCC/NoDA/SHYFEM_NO_ASSIM/sst_saniv1_chunk_0364.nos.nc']\n"
     ]
    }
   ],
   "source": [
    "directory_noDA = '/data/c-quilo/CMCC/NoDA/SHYFEM_NO_ASSIM/'\n",
    "directory_DA = '/data/c-quilo/CMCC/DA/SHYFEM_ASSIM_BIVARIATE/'\n",
    "list_of_paths_noDA = sorted(glob.glob(directory_noDA + '/*'))\n",
    "list_of_paths_DA = sorted(glob.glob(directory_DA + '/*'))\n",
    "print(list_of_paths_noDA)"
   ]
  },
  {
   "cell_type": "code",
   "execution_count": 3,
   "metadata": {},
   "outputs": [],
   "source": [
    "sst_noDA = np.zeros((365*24, 90351))\n",
    "count = 0\n",
    "for file in list_of_paths_noDA:\n",
    "    data_noDA = xr.open_dataset(file)\n",
    "    sst_noDA[24*count:24*(count+1), :] = data_noDA.temperature\n",
    "    count += 1\n",
    "    "
   ]
  },
  {
   "cell_type": "code",
   "execution_count": 4,
   "metadata": {},
   "outputs": [],
   "source": [
    "sst_DA = np.zeros((365*24, 90351))\n",
    "count = 0\n",
    "for file in list_of_paths_DA:\n",
    "    data_DA = xr.open_dataset(file)\n",
    "    sst_DA[24*count:24*(count+1), :] = data_DA.temperature\n",
    "    count += 1"
   ]
  },
  {
   "cell_type": "code",
   "execution_count": 5,
   "metadata": {},
   "outputs": [
    {
     "name": "stdout",
     "output_type": "stream",
     "text": [
      "(8760, 90351)\n"
     ]
    }
   ],
   "source": [
    "print(sst_DA.shape)"
   ]
  },
  {
   "cell_type": "code",
   "execution_count": 6,
   "metadata": {},
   "outputs": [],
   "source": [
    "import tensorflow as tf\n",
    "from tensorflow import keras\n",
    "from sklearn.model_selection import train_test_split"
   ]
  },
  {
   "cell_type": "code",
   "execution_count": 7,
   "metadata": {},
   "outputs": [
    {
     "name": "stdout",
     "output_type": "stream",
     "text": [
      "Model: \"encoder\"\n",
      "_________________________________________________________________\n",
      "Layer (type)                 Output Shape              Param #   \n",
      "=================================================================\n",
      "input_1 (InputLayer)         [(None, 90351)]           0         \n",
      "_________________________________________________________________\n",
      "dense (Dense)                (None, 512)               46260224  \n",
      "_________________________________________________________________\n",
      "leaky_re_lu (LeakyReLU)      (None, 512)               0         \n",
      "_________________________________________________________________\n",
      "dropout (Dropout)            (None, 512)               0         \n",
      "_________________________________________________________________\n",
      "batch_normalization (BatchNo (None, 512)               2048      \n",
      "_________________________________________________________________\n",
      "dense_1 (Dense)              (None, 512)               262656    \n",
      "_________________________________________________________________\n",
      "leaky_re_lu_1 (LeakyReLU)    (None, 512)               0         \n",
      "_________________________________________________________________\n",
      "dropout_1 (Dropout)          (None, 512)               0         \n",
      "_________________________________________________________________\n",
      "batch_normalization_1 (Batch (None, 512)               2048      \n",
      "_________________________________________________________________\n",
      "dense_2 (Dense)              (None, 90351)             46350063  \n",
      "=================================================================\n",
      "Total params: 92,877,039\n",
      "Trainable params: 92,874,991\n",
      "Non-trainable params: 2,048\n",
      "_________________________________________________________________\n"
     ]
    },
    {
     "name": "stderr",
     "output_type": "stream",
     "text": [
      "2022-10-14 12:29:58.980574: I tensorflow/compiler/jit/xla_cpu_device.cc:41] Not creating XLA devices, tf_xla_enable_xla_devices not set\n",
      "2022-10-14 12:29:58.980666: I tensorflow/core/platform/cpu_feature_guard.cc:142] This TensorFlow binary is optimized with oneAPI Deep Neural Network Library (oneDNN) to use the following CPU instructions in performance-critical operations:  SSE4.1 SSE4.2 AVX AVX2 AVX512F FMA\n",
      "To enable them in other operations, rebuild TensorFlow with the appropriate compiler flags.\n",
      "2022-10-14 12:29:58.981562: I tensorflow/core/common_runtime/process_util.cc:146] Creating new thread pool with default inter op setting: 2. Tune using inter_op_parallelism_threads for best performance.\n"
     ]
    }
   ],
   "source": [
    "nFeatures = sst_noDA.shape[1]\n",
    "encoder_inputs = keras.Input(shape=nFeatures)\n",
    "alpha = 0.3\n",
    "\n",
    "enc = keras.layers.Dense(512)(encoder_inputs)\n",
    "enc = keras.layers.LeakyReLU(alpha)(enc)\n",
    "enc = keras.layers.Dropout(0.5)(enc)\n",
    "enc = keras.layers.BatchNormalization()(enc)\n",
    "\n",
    "# enc = keras.layers.Dense(256)(enc)\n",
    "# enc = keras.layers.LeakyReLU(alpha)(enc)\n",
    "# enc = keras.layers.Dropout(0.5)(enc)\n",
    "# enc = keras.layers.BatchNormalization()(enc)\n",
    "\n",
    "# enc = keras.layers.Dense(128)(enc)\n",
    "# enc = keras.layers.LeakyReLU(alpha)(enc)\n",
    "# enc = keras.layers.Dropout(0.5)(enc)\n",
    "# enc = keras.layers.BatchNormalization()(enc)\n",
    "\n",
    "# enc = keras.layers.Dense(256)(enc)\n",
    "# enc = keras.layers.LeakyReLU(alpha)(enc)\n",
    "# enc = keras.layers.Dropout(0.5)(enc)\n",
    "# enc = keras.layers.BatchNormalization()(enc)\n",
    "\n",
    "enc = keras.layers.Dense(512)(enc)\n",
    "enc = keras.layers.LeakyReLU(alpha)(enc)\n",
    "enc = keras.layers.Dropout(0.5)(enc)\n",
    "enc = keras.layers.BatchNormalization()(enc)\n",
    "\n",
    "output = keras.layers.Dense(nFeatures, activation='sigmoid')(enc)\n",
    "#enc = keras.layers.LeakyReLU(alpha)(enc)\n",
    "#enc = keras.layers.Dropout(0.5)(enc)\n",
    "#enc = keras.layers.BatchNormalization()(enc)\n",
    "\n",
    "encoder = keras.Model(encoder_inputs, output, name=\"encoder\")\n",
    "encoder.summary()"
   ]
  },
  {
   "cell_type": "code",
   "execution_count": 8,
   "metadata": {},
   "outputs": [],
   "source": [
    "n_samples = sst_noDA.shape[0]\n",
    "indices = np.arange(n_samples)\n",
    "#Scaling\n",
    "from sklearn.preprocessing import MinMaxScaler\n",
    "\n",
    "scalernoDA = MinMaxScaler()\n",
    "scalerDA = MinMaxScaler()\n",
    "\n",
    "sst_noDA_scaled = scalernoDA.fit_transform(sst_noDA, (0,1))\n",
    "sst_DA_scaled = scalerDA.fit_transform(sst_DA, (0,1))\n",
    "\n",
    "X_train, X_test, y_train, y_test, indices_train, indices_test = train_test_split(sst_noDA_scaled, sst_DA_scaled, indices, test_size = 0.2, random_state = 42, shuffle=True)\n",
    "\n"
   ]
  },
  {
   "cell_type": "code",
   "execution_count": 9,
   "metadata": {},
   "outputs": [],
   "source": [
    "encoder.compile(loss='mse', optimizer=tf.optimizers.Nadam())"
   ]
  },
  {
   "cell_type": "code",
   "execution_count": 10,
   "metadata": {},
   "outputs": [
    {
     "name": "stderr",
     "output_type": "stream",
     "text": [
      "2022-10-14 12:30:08.908540: I tensorflow/compiler/mlir/mlir_graph_optimization_pass.cc:116] None of the MLIR optimization passes are enabled (registered 2)\n",
      "2022-10-14 12:30:08.928081: I tensorflow/core/platform/profile_utils/cpu_utils.cc:112] CPU Frequency: 3504000000 Hz\n"
     ]
    },
    {
     "name": "stdout",
     "output_type": "stream",
     "text": [
      "Epoch 1/500\n",
      " 64/219 [=======>......................] - ETA: 1:34 - loss: 0.0280"
     ]
    },
    {
     "ename": "KeyboardInterrupt",
     "evalue": "",
     "output_type": "error",
     "traceback": [
      "\u001b[0;31m---------------------------------------------------------------------------\u001b[0m",
      "\u001b[0;31mKeyboardInterrupt\u001b[0m                         Traceback (most recent call last)",
      "\u001b[1;32m/data/c-quilo/CMCC/RODDA_SANI.ipynb Cell 12\u001b[0m in \u001b[0;36m<cell line: 1>\u001b[0;34m()\u001b[0m\n\u001b[0;32m----> <a href='vscode-notebook-cell://ssh-remote%2Bese-datalearning.ese.ic.ac.uk/data/c-quilo/CMCC/RODDA_SANI.ipynb#X14sdnNjb2RlLXJlbW90ZQ%3D%3D?line=0'>1</a>\u001b[0m encoder\u001b[39m.\u001b[39;49mfit(X_train, y_train, validation_data \u001b[39m=\u001b[39;49m (X_test, y_test), epochs\u001b[39m=\u001b[39;49m\u001b[39m500\u001b[39;49m, batch_size\u001b[39m=\u001b[39;49m\u001b[39m32\u001b[39;49m)\n",
      "File \u001b[0;32m~/miniconda3/envs/tensorflow/lib/python3.9/site-packages/tensorflow/python/keras/engine/training.py:1100\u001b[0m, in \u001b[0;36mModel.fit\u001b[0;34m(self, x, y, batch_size, epochs, verbose, callbacks, validation_split, validation_data, shuffle, class_weight, sample_weight, initial_epoch, steps_per_epoch, validation_steps, validation_batch_size, validation_freq, max_queue_size, workers, use_multiprocessing)\u001b[0m\n\u001b[1;32m   1093\u001b[0m \u001b[39mwith\u001b[39;00m trace\u001b[39m.\u001b[39mTrace(\n\u001b[1;32m   1094\u001b[0m     \u001b[39m'\u001b[39m\u001b[39mtrain\u001b[39m\u001b[39m'\u001b[39m,\n\u001b[1;32m   1095\u001b[0m     epoch_num\u001b[39m=\u001b[39mepoch,\n\u001b[1;32m   1096\u001b[0m     step_num\u001b[39m=\u001b[39mstep,\n\u001b[1;32m   1097\u001b[0m     batch_size\u001b[39m=\u001b[39mbatch_size,\n\u001b[1;32m   1098\u001b[0m     _r\u001b[39m=\u001b[39m\u001b[39m1\u001b[39m):\n\u001b[1;32m   1099\u001b[0m   callbacks\u001b[39m.\u001b[39mon_train_batch_begin(step)\n\u001b[0;32m-> 1100\u001b[0m   tmp_logs \u001b[39m=\u001b[39m \u001b[39mself\u001b[39;49m\u001b[39m.\u001b[39;49mtrain_function(iterator)\n\u001b[1;32m   1101\u001b[0m   \u001b[39mif\u001b[39;00m data_handler\u001b[39m.\u001b[39mshould_sync:\n\u001b[1;32m   1102\u001b[0m     context\u001b[39m.\u001b[39masync_wait()\n",
      "File \u001b[0;32m~/miniconda3/envs/tensorflow/lib/python3.9/site-packages/tensorflow/python/eager/def_function.py:828\u001b[0m, in \u001b[0;36mFunction.__call__\u001b[0;34m(self, *args, **kwds)\u001b[0m\n\u001b[1;32m    826\u001b[0m tracing_count \u001b[39m=\u001b[39m \u001b[39mself\u001b[39m\u001b[39m.\u001b[39mexperimental_get_tracing_count()\n\u001b[1;32m    827\u001b[0m \u001b[39mwith\u001b[39;00m trace\u001b[39m.\u001b[39mTrace(\u001b[39mself\u001b[39m\u001b[39m.\u001b[39m_name) \u001b[39mas\u001b[39;00m tm:\n\u001b[0;32m--> 828\u001b[0m   result \u001b[39m=\u001b[39m \u001b[39mself\u001b[39;49m\u001b[39m.\u001b[39;49m_call(\u001b[39m*\u001b[39;49margs, \u001b[39m*\u001b[39;49m\u001b[39m*\u001b[39;49mkwds)\n\u001b[1;32m    829\u001b[0m   compiler \u001b[39m=\u001b[39m \u001b[39m\"\u001b[39m\u001b[39mxla\u001b[39m\u001b[39m\"\u001b[39m \u001b[39mif\u001b[39;00m \u001b[39mself\u001b[39m\u001b[39m.\u001b[39m_experimental_compile \u001b[39melse\u001b[39;00m \u001b[39m\"\u001b[39m\u001b[39mnonXla\u001b[39m\u001b[39m\"\u001b[39m\n\u001b[1;32m    830\u001b[0m   new_tracing_count \u001b[39m=\u001b[39m \u001b[39mself\u001b[39m\u001b[39m.\u001b[39mexperimental_get_tracing_count()\n",
      "File \u001b[0;32m~/miniconda3/envs/tensorflow/lib/python3.9/site-packages/tensorflow/python/eager/def_function.py:855\u001b[0m, in \u001b[0;36mFunction._call\u001b[0;34m(self, *args, **kwds)\u001b[0m\n\u001b[1;32m    852\u001b[0m   \u001b[39mself\u001b[39m\u001b[39m.\u001b[39m_lock\u001b[39m.\u001b[39mrelease()\n\u001b[1;32m    853\u001b[0m   \u001b[39m# In this case we have created variables on the first call, so we run the\u001b[39;00m\n\u001b[1;32m    854\u001b[0m   \u001b[39m# defunned version which is guaranteed to never create variables.\u001b[39;00m\n\u001b[0;32m--> 855\u001b[0m   \u001b[39mreturn\u001b[39;00m \u001b[39mself\u001b[39;49m\u001b[39m.\u001b[39;49m_stateless_fn(\u001b[39m*\u001b[39;49margs, \u001b[39m*\u001b[39;49m\u001b[39m*\u001b[39;49mkwds)  \u001b[39m# pylint: disable=not-callable\u001b[39;00m\n\u001b[1;32m    856\u001b[0m \u001b[39melif\u001b[39;00m \u001b[39mself\u001b[39m\u001b[39m.\u001b[39m_stateful_fn \u001b[39mis\u001b[39;00m \u001b[39mnot\u001b[39;00m \u001b[39mNone\u001b[39;00m:\n\u001b[1;32m    857\u001b[0m   \u001b[39m# Release the lock early so that multiple threads can perform the call\u001b[39;00m\n\u001b[1;32m    858\u001b[0m   \u001b[39m# in parallel.\u001b[39;00m\n\u001b[1;32m    859\u001b[0m   \u001b[39mself\u001b[39m\u001b[39m.\u001b[39m_lock\u001b[39m.\u001b[39mrelease()\n",
      "File \u001b[0;32m~/miniconda3/envs/tensorflow/lib/python3.9/site-packages/tensorflow/python/eager/function.py:2942\u001b[0m, in \u001b[0;36mFunction.__call__\u001b[0;34m(self, *args, **kwargs)\u001b[0m\n\u001b[1;32m   2939\u001b[0m \u001b[39mwith\u001b[39;00m \u001b[39mself\u001b[39m\u001b[39m.\u001b[39m_lock:\n\u001b[1;32m   2940\u001b[0m   (graph_function,\n\u001b[1;32m   2941\u001b[0m    filtered_flat_args) \u001b[39m=\u001b[39m \u001b[39mself\u001b[39m\u001b[39m.\u001b[39m_maybe_define_function(args, kwargs)\n\u001b[0;32m-> 2942\u001b[0m \u001b[39mreturn\u001b[39;00m graph_function\u001b[39m.\u001b[39;49m_call_flat(\n\u001b[1;32m   2943\u001b[0m     filtered_flat_args, captured_inputs\u001b[39m=\u001b[39;49mgraph_function\u001b[39m.\u001b[39;49mcaptured_inputs)\n",
      "File \u001b[0;32m~/miniconda3/envs/tensorflow/lib/python3.9/site-packages/tensorflow/python/eager/function.py:1918\u001b[0m, in \u001b[0;36mConcreteFunction._call_flat\u001b[0;34m(self, args, captured_inputs, cancellation_manager)\u001b[0m\n\u001b[1;32m   1914\u001b[0m possible_gradient_type \u001b[39m=\u001b[39m gradients_util\u001b[39m.\u001b[39mPossibleTapeGradientTypes(args)\n\u001b[1;32m   1915\u001b[0m \u001b[39mif\u001b[39;00m (possible_gradient_type \u001b[39m==\u001b[39m gradients_util\u001b[39m.\u001b[39mPOSSIBLE_GRADIENT_TYPES_NONE\n\u001b[1;32m   1916\u001b[0m     \u001b[39mand\u001b[39;00m executing_eagerly):\n\u001b[1;32m   1917\u001b[0m   \u001b[39m# No tape is watching; skip to running the function.\u001b[39;00m\n\u001b[0;32m-> 1918\u001b[0m   \u001b[39mreturn\u001b[39;00m \u001b[39mself\u001b[39m\u001b[39m.\u001b[39m_build_call_outputs(\u001b[39mself\u001b[39;49m\u001b[39m.\u001b[39;49m_inference_function\u001b[39m.\u001b[39;49mcall(\n\u001b[1;32m   1919\u001b[0m       ctx, args, cancellation_manager\u001b[39m=\u001b[39;49mcancellation_manager))\n\u001b[1;32m   1920\u001b[0m forward_backward \u001b[39m=\u001b[39m \u001b[39mself\u001b[39m\u001b[39m.\u001b[39m_select_forward_and_backward_functions(\n\u001b[1;32m   1921\u001b[0m     args,\n\u001b[1;32m   1922\u001b[0m     possible_gradient_type,\n\u001b[1;32m   1923\u001b[0m     executing_eagerly)\n\u001b[1;32m   1924\u001b[0m forward_function, args_with_tangents \u001b[39m=\u001b[39m forward_backward\u001b[39m.\u001b[39mforward()\n",
      "File \u001b[0;32m~/miniconda3/envs/tensorflow/lib/python3.9/site-packages/tensorflow/python/eager/function.py:555\u001b[0m, in \u001b[0;36m_EagerDefinedFunction.call\u001b[0;34m(self, ctx, args, cancellation_manager)\u001b[0m\n\u001b[1;32m    553\u001b[0m \u001b[39mwith\u001b[39;00m _InterpolateFunctionError(\u001b[39mself\u001b[39m):\n\u001b[1;32m    554\u001b[0m   \u001b[39mif\u001b[39;00m cancellation_manager \u001b[39mis\u001b[39;00m \u001b[39mNone\u001b[39;00m:\n\u001b[0;32m--> 555\u001b[0m     outputs \u001b[39m=\u001b[39m execute\u001b[39m.\u001b[39;49mexecute(\n\u001b[1;32m    556\u001b[0m         \u001b[39mstr\u001b[39;49m(\u001b[39mself\u001b[39;49m\u001b[39m.\u001b[39;49msignature\u001b[39m.\u001b[39;49mname),\n\u001b[1;32m    557\u001b[0m         num_outputs\u001b[39m=\u001b[39;49m\u001b[39mself\u001b[39;49m\u001b[39m.\u001b[39;49m_num_outputs,\n\u001b[1;32m    558\u001b[0m         inputs\u001b[39m=\u001b[39;49margs,\n\u001b[1;32m    559\u001b[0m         attrs\u001b[39m=\u001b[39;49mattrs,\n\u001b[1;32m    560\u001b[0m         ctx\u001b[39m=\u001b[39;49mctx)\n\u001b[1;32m    561\u001b[0m   \u001b[39melse\u001b[39;00m:\n\u001b[1;32m    562\u001b[0m     outputs \u001b[39m=\u001b[39m execute\u001b[39m.\u001b[39mexecute_with_cancellation(\n\u001b[1;32m    563\u001b[0m         \u001b[39mstr\u001b[39m(\u001b[39mself\u001b[39m\u001b[39m.\u001b[39msignature\u001b[39m.\u001b[39mname),\n\u001b[1;32m    564\u001b[0m         num_outputs\u001b[39m=\u001b[39m\u001b[39mself\u001b[39m\u001b[39m.\u001b[39m_num_outputs,\n\u001b[0;32m   (...)\u001b[0m\n\u001b[1;32m    567\u001b[0m         ctx\u001b[39m=\u001b[39mctx,\n\u001b[1;32m    568\u001b[0m         cancellation_manager\u001b[39m=\u001b[39mcancellation_manager)\n",
      "File \u001b[0;32m~/miniconda3/envs/tensorflow/lib/python3.9/site-packages/tensorflow/python/eager/execute.py:59\u001b[0m, in \u001b[0;36mquick_execute\u001b[0;34m(op_name, num_outputs, inputs, attrs, ctx, name)\u001b[0m\n\u001b[1;32m     57\u001b[0m \u001b[39mtry\u001b[39;00m:\n\u001b[1;32m     58\u001b[0m   ctx\u001b[39m.\u001b[39mensure_initialized()\n\u001b[0;32m---> 59\u001b[0m   tensors \u001b[39m=\u001b[39m pywrap_tfe\u001b[39m.\u001b[39;49mTFE_Py_Execute(ctx\u001b[39m.\u001b[39;49m_handle, device_name, op_name,\n\u001b[1;32m     60\u001b[0m                                       inputs, attrs, num_outputs)\n\u001b[1;32m     61\u001b[0m \u001b[39mexcept\u001b[39;00m core\u001b[39m.\u001b[39m_NotOkStatusException \u001b[39mas\u001b[39;00m e:\n\u001b[1;32m     62\u001b[0m   \u001b[39mif\u001b[39;00m name \u001b[39mis\u001b[39;00m \u001b[39mnot\u001b[39;00m \u001b[39mNone\u001b[39;00m:\n",
      "\u001b[0;31mKeyboardInterrupt\u001b[0m: "
     ]
    }
   ],
   "source": [
    "encoder.fit(X_train, y_train, validation_data = (X_test, y_test), epochs=500, batch_size=32)"
   ]
  },
  {
   "cell_type": "code",
   "execution_count": 19,
   "metadata": {},
   "outputs": [
    {
     "name": "stdout",
     "output_type": "stream",
     "text": [
      "36.083333333333336\n",
      "2\n",
      "2017-02-06T02:00:00\n",
      "(1752,)\n"
     ]
    }
   ],
   "source": [
    "from xarray.coding.times import decode_cf_datetime\n",
    "\n",
    "# Read lon lat\n",
    "lon_lat = xr.open_dataset('lon_lat_sani.nc')\n",
    "lon = lon_lat.longitude.values\n",
    "lat = lon_lat.latitude.values\n",
    "index = indices_test[100]\n",
    "print(index/24)\n",
    "print((index%24))\n",
    "\n",
    "index_date = str(decode_cf_datetime(index, 'hours since 2017-01-01 0:00'))[:-10]\n",
    "print(index_date)\n",
    "predDA = encoder.predict(np.expand_dims(sst_noDA_scaled[index], 0))\n",
    "\n",
    "sst_noDA_unscaled = scalernoDA.inverse_transform(sst_noDA_scaled)\n",
    "sst_DA_unscaled = scalerDA.inverse_transform(sst_DA_scaled)\n",
    "predDA = np.squeeze(scalerDA.inverse_transform(predDA))\n",
    "print(indices_test.shape)"
   ]
  },
  {
   "cell_type": "code",
   "execution_count": 21,
   "metadata": {},
   "outputs": [
    {
     "name": "stdout",
     "output_type": "stream",
     "text": [
      "2017-09-10T08:00:00\n",
      "2017-08-20T12:00:00\n",
      "2017-09-07T14:00:00\n",
      "2017-11-16T18:00:00\n"
     ]
    }
   ],
   "source": [
    "for i in range(10):\n",
    "    index = indices_test[i]\n",
    "    index_date = str(decode_cf_datetime(index, 'hours since 2017-01-01 0:00'))[:-10]\n",
    "    predDA = encoder.predict(np.expand_dims(sst_noDA_scaled[index], 0))\n",
    "    predDA = np.squeeze(scalerDA.inverse_transform(predDA))\n",
    "\n",
    "    import mercator\n",
    "    from matplotlib.colors import TwoSlopeNorm\n",
    "\n",
    "    fig, axs = plt.subplots(nrows=2, ncols=3)#,sharex='col', sharey='row',subplot_kw={'projection': 'mercator'})\n",
    "    axs[0,0].set_title(\" SHYFEM\")\n",
    "    #axs[0,0].coastline('medsea_h.shp', sea=None, zorder=2)\n",
    "    axs[0,0].scatter(lon,lat,c=sst_noDA[index, :], \n",
    "                    vmin=np.min(sst_DA[index, :]), \n",
    "                    vmax=np.max(sst_DA[index, :]), \n",
    "                    cmap='jet')\n",
    "\n",
    "    axs[0,1].set_title(\" SHYFEM-OCEANVAR\")\n",
    "    #axs[0,1].coastline('medsea_h.shp', sea=None, zorder=2)\n",
    "    axs[0,1].scatter(lon,lat,c=sst_DA[index, :], \n",
    "                    vmin=np.min(sst_DA[index, :]), \n",
    "                    vmax=np.max(sst_DA[index, :]), \n",
    "                    cmap='jet')\n",
    "\n",
    "    axs[0,2].set_title(\" PREDICTED DA\")\n",
    "    #axs[0,2].coastline('medsea_h.shp', sea=None, zorder=2)\n",
    "    cb1=axs[0,2].scatter(lon,lat,c=predDA[:], \n",
    "                        vmin=np.min(sst_DA[index, :]), \n",
    "                        vmax=np.max(sst_DA[index, :]), \n",
    "                        cmap='jet')\n",
    "\n",
    "    cbar1 = fig.colorbar(cb1, ax=axs[0][2])\n",
    "\n",
    "    ###########################################################################################################################\n",
    "\n",
    "    axs[1,0].set_title(\"PREDICTED DA \\n minus \\n SHYFEM-OCEANVAR\")\n",
    "    #axs[1,0].coastline('medsea_h.shp', sea=None, zorder=2)\n",
    "    axs[1,0].scatter(lon,lat,c=predDA[:]-sst_DA[index, :],\n",
    "                    cmap='seismic', norm=TwoSlopeNorm(vcenter=0))#.,\n",
    "                                                    #vmin=np.min(predDA[:]-sst_DA[index, :]), \n",
    "                                                    #vmax=np.max(predDA[:]-sst_DA[index, :])))\n",
    "\n",
    "    axs[1,1].set_title(\"PREDICTED DA \\n minus \\n SHYFEM\")\n",
    "    #axs[1,1].coastline('medsea_h.shp', sea=None, zorder=2)\n",
    "    cb2=axs[1,1].scatter(lon,lat,c=predDA[:]-sst_noDA[index, :],\n",
    "                    cmap='seismic', norm=TwoSlopeNorm(vcenter=0))#.,\n",
    "                                                    #vmin=np.min(predDA[:]-sst_DA[index, :]), \n",
    "                                                    #vmax=np.max(predDA[:]-sst_DA[index, :])))\n",
    "\n",
    "    cbar2 = fig.colorbar(cb2, ax=axs[1][1])\n",
    "\n",
    "    axs[1,2].set_title(\"SHYFEM-OCEANVAR \\n minus \\n SHYFEM\")\n",
    "    #axs[1,2].coastline('medsea_h.shp', sea=None, zorder=2)\n",
    "    cb3=axs[1,2].scatter(lon,lat,c=sst_DA[index, :]-sst_noDA[index, :], \n",
    "                        cmap='seismic', norm=TwoSlopeNorm(vcenter=0))#.,\n",
    "                                                        #vmin=np.min(sst_DA[index, :]-sst_noDA[index, :]), \n",
    "                                                        #vmax=np.max(sst_DA[index, :]-sst_noDA[index, :])))\n",
    "\n",
    "    cbar3 = fig.colorbar(cb3, ax=axs[1][2])\n",
    "\n",
    "\n",
    "    fig.suptitle(index_date)\n",
    "    print(str(index_date))\n",
    "    fig.tight_layout()\n",
    "    plt.savefig('Test_' + str(index_date))\n"
   ]
  },
  {
   "cell_type": "code",
   "execution_count": null,
   "metadata": {},
   "outputs": [],
   "source": []
  }
 ],
 "metadata": {
  "kernelspec": {
   "display_name": "Python 3.9.12 ('tensorflow')",
   "language": "python",
   "name": "python3"
  },
  "language_info": {
   "codemirror_mode": {
    "name": "ipython",
    "version": 3
   },
   "file_extension": ".py",
   "mimetype": "text/x-python",
   "name": "python",
   "nbconvert_exporter": "python",
   "pygments_lexer": "ipython3",
   "version": "3.9.12"
  },
  "vscode": {
   "interpreter": {
    "hash": "04c326ab39f7cdc473ebc7acaec36b3cfd9f692ecff7c7f99b1c8c609feb2993"
   }
  }
 },
 "nbformat": 4,
 "nbformat_minor": 2
}
